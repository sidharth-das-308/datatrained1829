{
  "nbformat": 4,
  "nbformat_minor": 0,
  "metadata": {
    "anaconda-cloud": {},
    "kernelspec": {
      "display_name": "Python 3",
      "language": "python",
      "name": "python3"
    },
    "language_info": {
      "codemirror_mode": {
        "name": "ipython",
        "version": 3
      },
      "file_extension": ".py",
      "mimetype": "text/x-python",
      "name": "python",
      "nbconvert_exporter": "python",
      "pygments_lexer": "ipython3",
      "version": "3.5.1"
    },
    "colab": {
      "name": "Advertising Sales Channel Prediction Model.ipynb",
      "provenance": [],
      "collapsed_sections": []
    }
  },
  "cells": [
    {
      "cell_type": "markdown",
      "metadata": {
        "id": "OrmrmiTQIJ0O"
      },
      "source": [
        "# **Advertising Sales Channel Prediction Model**"
      ]
    },
    {
      "cell_type": "code",
      "metadata": {
        "id": "AFHgDDWrIJQc"
      },
      "source": [
        "from google.colab import drive"
      ],
      "execution_count": 1,
      "outputs": []
    },
    {
      "cell_type": "code",
      "metadata": {
        "id": "fQ4wUnaoJEBK",
        "colab": {
          "base_uri": "https://localhost:8080/"
        },
        "outputId": "54646607-81e2-43b3-dbdd-1c9f530590ef"
      },
      "source": [
        "drive.mount('/content/drive')"
      ],
      "execution_count": 2,
      "outputs": [
        {
          "output_type": "stream",
          "text": [
            "Mounted at /content/drive\n"
          ],
          "name": "stdout"
        }
      ]
    },
    {
      "cell_type": "markdown",
      "metadata": {
        "id": "iZEKp9MCJ1rd"
      },
      "source": [
        "**Getting Started**"
      ]
    },
    {
      "cell_type": "markdown",
      "metadata": {
        "id": "p86TjgVzJ5rn"
      },
      "source": [
        "**Problem Statement**\n",
        "\n",
        "Build a model which predicts sales based on the money spent on different platforms for marketing.\n",
        "\n",
        "**Data**\n",
        "\n",
        "Use the advertising dataset given in ISLR and analyse the relationship between 'TV advertising' and 'sales' using a simple linear regression model.\n",
        "\n"
      ]
    },
    {
      "cell_type": "code",
      "metadata": {
        "id": "VVpWvmGpKJjq"
      },
      "source": [
        "#Importing the python libraries and packages\n",
        "\n",
        "import numpy as np \n",
        "import pandas as pd \n",
        "import seaborn as sns \n",
        "import matplotlib.pyplot as plt \n",
        "\n",
        "import warnings\n",
        "warnings.filterwarnings(\"ignore\")"
      ],
      "execution_count": 3,
      "outputs": []
    },
    {
      "cell_type": "code",
      "metadata": {
        "id": "WtIXYRZLKNhC"
      },
      "source": [
        "#Reading the CSV file of the dataset\n",
        "#Pandas read_csv() function imports a CSV file (in our case, ‘Advertising.csv’) to DataFrame format.\n",
        "\n",
        "df = pd.read_csv(\"/content/drive/MyDrive/Python_Datasets/Advertising.csv\")"
      ],
      "execution_count": 4,
      "outputs": []
    },
    {
      "cell_type": "code",
      "metadata": {
        "id": "46W0R2IUKdzU",
        "colab": {
          "base_uri": "https://localhost:8080/",
          "height": 204
        },
        "outputId": "5b2a6f5c-7cae-4c48-9be0-9877e8ce6b79"
      },
      "source": [
        "#Examining the Data\n",
        "#After importing the data, to learn more about the dataset, we’ll use .head() .info() and .describe() methods.\n",
        "\n",
        "df.head()"
      ],
      "execution_count": 5,
      "outputs": [
        {
          "output_type": "execute_result",
          "data": {
            "text/html": [
              "<div>\n",
              "<style scoped>\n",
              "    .dataframe tbody tr th:only-of-type {\n",
              "        vertical-align: middle;\n",
              "    }\n",
              "\n",
              "    .dataframe tbody tr th {\n",
              "        vertical-align: top;\n",
              "    }\n",
              "\n",
              "    .dataframe thead th {\n",
              "        text-align: right;\n",
              "    }\n",
              "</style>\n",
              "<table border=\"1\" class=\"dataframe\">\n",
              "  <thead>\n",
              "    <tr style=\"text-align: right;\">\n",
              "      <th></th>\n",
              "      <th>Unnamed: 0</th>\n",
              "      <th>TV</th>\n",
              "      <th>radio</th>\n",
              "      <th>newspaper</th>\n",
              "      <th>sales</th>\n",
              "    </tr>\n",
              "  </thead>\n",
              "  <tbody>\n",
              "    <tr>\n",
              "      <th>0</th>\n",
              "      <td>1</td>\n",
              "      <td>230.1</td>\n",
              "      <td>37.8</td>\n",
              "      <td>69.2</td>\n",
              "      <td>22.1</td>\n",
              "    </tr>\n",
              "    <tr>\n",
              "      <th>1</th>\n",
              "      <td>2</td>\n",
              "      <td>44.5</td>\n",
              "      <td>39.3</td>\n",
              "      <td>45.1</td>\n",
              "      <td>10.4</td>\n",
              "    </tr>\n",
              "    <tr>\n",
              "      <th>2</th>\n",
              "      <td>3</td>\n",
              "      <td>17.2</td>\n",
              "      <td>45.9</td>\n",
              "      <td>69.3</td>\n",
              "      <td>9.3</td>\n",
              "    </tr>\n",
              "    <tr>\n",
              "      <th>3</th>\n",
              "      <td>4</td>\n",
              "      <td>151.5</td>\n",
              "      <td>41.3</td>\n",
              "      <td>58.5</td>\n",
              "      <td>18.5</td>\n",
              "    </tr>\n",
              "    <tr>\n",
              "      <th>4</th>\n",
              "      <td>5</td>\n",
              "      <td>180.8</td>\n",
              "      <td>10.8</td>\n",
              "      <td>58.4</td>\n",
              "      <td>12.9</td>\n",
              "    </tr>\n",
              "  </tbody>\n",
              "</table>\n",
              "</div>"
            ],
            "text/plain": [
              "   Unnamed: 0     TV  radio  newspaper  sales\n",
              "0           1  230.1   37.8       69.2   22.1\n",
              "1           2   44.5   39.3       45.1   10.4\n",
              "2           3   17.2   45.9       69.3    9.3\n",
              "3           4  151.5   41.3       58.5   18.5\n",
              "4           5  180.8   10.8       58.4   12.9"
            ]
          },
          "metadata": {
            "tags": []
          },
          "execution_count": 5
        }
      ]
    },
    {
      "cell_type": "code",
      "metadata": {
        "id": "kaJe5bhiKlNU",
        "colab": {
          "base_uri": "https://localhost:8080/"
        },
        "outputId": "07b57cd8-54e8-4bc2-e67b-14304fed3b01"
      },
      "source": [
        "#The .info() method will give you a concise summary of the DataFrame.\n",
        "\n",
        "df.info()"
      ],
      "execution_count": 6,
      "outputs": [
        {
          "output_type": "stream",
          "text": [
            "<class 'pandas.core.frame.DataFrame'>\n",
            "RangeIndex: 200 entries, 0 to 199\n",
            "Data columns (total 5 columns):\n",
            " #   Column      Non-Null Count  Dtype  \n",
            "---  ------      --------------  -----  \n",
            " 0   Unnamed: 0  200 non-null    int64  \n",
            " 1   TV          200 non-null    float64\n",
            " 2   radio       200 non-null    float64\n",
            " 3   newspaper   200 non-null    float64\n",
            " 4   sales       200 non-null    float64\n",
            "dtypes: float64(4), int64(1)\n",
            "memory usage: 7.9 KB\n"
          ],
          "name": "stdout"
        }
      ]
    },
    {
      "cell_type": "markdown",
      "metadata": {
        "id": "4n7XODbOKvv9"
      },
      "source": [
        "**Observation** : We have float type value in all independent variables and sales is our target variable ."
      ]
    },
    {
      "cell_type": "code",
      "metadata": {
        "id": "kgJazo2VK35t",
        "colab": {
          "base_uri": "https://localhost:8080/"
        },
        "outputId": "622e3e65-6813-4df1-cea0-154b733fa73b"
      },
      "source": [
        "#The shape of the dataset\n",
        "\n",
        "df.shape"
      ],
      "execution_count": 7,
      "outputs": [
        {
          "output_type": "execute_result",
          "data": {
            "text/plain": [
              "(200, 5)"
            ]
          },
          "metadata": {
            "tags": []
          },
          "execution_count": 7
        }
      ]
    },
    {
      "cell_type": "markdown",
      "metadata": {
        "id": "R3XGLIeZK94e"
      },
      "source": [
        "**Observation** : This shows that our dataset contains 200 rows i.e. instances of Advertising Sales Channel and 5 columns i.e. the specifications like TV , radio , newspaper and sales etc."
      ]
    },
    {
      "cell_type": "code",
      "metadata": {
        "id": "M96hHjxIK9ec",
        "colab": {
          "base_uri": "https://localhost:8080/"
        },
        "outputId": "ca3ea0f8-7860-42ce-c859-b7d0b7f07695"
      },
      "source": [
        "df.describe"
      ],
      "execution_count": 8,
      "outputs": [
        {
          "output_type": "execute_result",
          "data": {
            "text/plain": [
              "<bound method NDFrame.describe of      Unnamed: 0     TV  radio  newspaper  sales\n",
              "0             1  230.1   37.8       69.2   22.1\n",
              "1             2   44.5   39.3       45.1   10.4\n",
              "2             3   17.2   45.9       69.3    9.3\n",
              "3             4  151.5   41.3       58.5   18.5\n",
              "4             5  180.8   10.8       58.4   12.9\n",
              "..          ...    ...    ...        ...    ...\n",
              "195         196   38.2    3.7       13.8    7.6\n",
              "196         197   94.2    4.9        8.1    9.7\n",
              "197         198  177.0    9.3        6.4   12.8\n",
              "198         199  283.6   42.0       66.2   25.5\n",
              "199         200  232.1    8.6        8.7   13.4\n",
              "\n",
              "[200 rows x 5 columns]>"
            ]
          },
          "metadata": {
            "tags": []
          },
          "execution_count": 8
        }
      ]
    },
    {
      "cell_type": "code",
      "metadata": {
        "id": "UxZPTskaLmJF",
        "colab": {
          "base_uri": "https://localhost:8080/"
        },
        "outputId": "57d6f1f5-652f-4ef3-e2a7-f0668b203ddb"
      },
      "source": [
        "# checking the features, their shape, duplicate values and nan values in the Datasets\n",
        "\n",
        "print(\"\\nFeatures Present in the Dataset: \\n\", df.columns)\n",
        "shape=df.shape\n",
        "print(\"\\nTotal Number of Rows : \",shape[0])\n",
        "print(\"Total Number of Features : \", shape[1])\n",
        "print(\"\\n\\nData Types of Features :\\n\", df.dtypes)\n",
        "print(\"\\nDataset contains any NaN/Empty cells : \", df.isnull().values.any())\n",
        "print(\"\\nTotal number of empty rows in each feature:\\n\", df.isnull().sum(),\"\\n\\n\")\n",
        "print(\"Total number of unique values in each feature:\")\n",
        "for col in df.columns.values:\n",
        "    print(\"Number of unique values of {} : {}\".format(col, df[col].nunique()))"
      ],
      "execution_count": 9,
      "outputs": [
        {
          "output_type": "stream",
          "text": [
            "\n",
            "Features Present in the Dataset: \n",
            " Index(['Unnamed: 0', 'TV', 'radio', 'newspaper', 'sales'], dtype='object')\n",
            "\n",
            "Total Number of Rows :  200\n",
            "Total Number of Features :  5\n",
            "\n",
            "\n",
            "Data Types of Features :\n",
            " Unnamed: 0      int64\n",
            "TV            float64\n",
            "radio         float64\n",
            "newspaper     float64\n",
            "sales         float64\n",
            "dtype: object\n",
            "\n",
            "Dataset contains any NaN/Empty cells :  False\n",
            "\n",
            "Total number of empty rows in each feature:\n",
            " Unnamed: 0    0\n",
            "TV            0\n",
            "radio         0\n",
            "newspaper     0\n",
            "sales         0\n",
            "dtype: int64 \n",
            "\n",
            "\n",
            "Total number of unique values in each feature:\n",
            "Number of unique values of Unnamed: 0 : 200\n",
            "Number of unique values of TV : 190\n",
            "Number of unique values of radio : 167\n",
            "Number of unique values of newspaper : 172\n",
            "Number of unique values of sales : 121\n"
          ],
          "name": "stdout"
        }
      ]
    },
    {
      "cell_type": "code",
      "metadata": {
        "id": "yMj6LY8NLuzX",
        "colab": {
          "base_uri": "https://localhost:8080/",
          "height": 286
        },
        "outputId": "83a9838b-9da7-4e7b-b8f3-4e06d0a8f114"
      },
      "source": [
        "#Checking of null values in our dataset by passing a heatmap function.\n",
        "\n",
        "sns.heatmap(df.isnull(),cmap='inferno')"
      ],
      "execution_count": 10,
      "outputs": [
        {
          "output_type": "execute_result",
          "data": {
            "text/plain": [
              "<matplotlib.axes._subplots.AxesSubplot at 0x7ffaeac7d390>"
            ]
          },
          "metadata": {
            "tags": []
          },
          "execution_count": 10
        },
        {
          "output_type": "display_data",
          "data": {
            "image/png": "[encoded data removed]",
            "text/plain": [
              "<Figure size 432x288 with 2 Axes>"
            ]
          },
          "metadata": {
            "tags": [],
            "needs_background": "light"
          }
        }
      ]
    },
    {
      "cell_type": "markdown",
      "metadata": {
        "id": "aRgf6CjELz_v"
      },
      "source": [
        "**Observation** : There are no null values present in the dataset ."
      ]
    },
    {
      "cell_type": "markdown",
      "metadata": {
        "id": "Al1wH6OQL5Gw"
      },
      "source": [
        "# ***EDA (Exploratory Data Analysis)***"
      ]
    },
    {
      "cell_type": "markdown",
      "metadata": {
        "id": "s5RVfaqWMAmA"
      },
      "source": [
        "**Univariate Analysis**"
      ]
    },
    {
      "cell_type": "code",
      "metadata": {
        "id": "_QSCgxPzL9Yw",
        "colab": {
          "base_uri": "https://localhost:8080/",
          "height": 383
        },
        "outputId": "d3dc4d3b-1cbe-47cf-dd21-752147649aaf"
      },
      "source": [
        "plt.figure(figsize=(30,8))\n",
        "sns.set_theme(style=\"darkgrid\")\n",
        "sns.countplot(df['sales'],linewidth=2,edgecolor=sns.color_palette(\"dark\", 5),palette=\"Set3\")"
      ],
      "execution_count": 11,
      "outputs": [
        {
          "output_type": "execute_result",
          "data": {
            "text/plain": [
              "<matplotlib.axes._subplots.AxesSubplot at 0x7ffae2323b90>"
            ]
          },
          "metadata": {
            "tags": []
          },
          "execution_count": 11
        },
        {
          "output_type": "display_data",
          "data": {
            "image/png": "[encoded data removed]",
            "text/plain": [
              "<Figure size 2160x576 with 1 Axes>"
            ]
          },
          "metadata": {
            "tags": [],
            "needs_background": "light"
          }
        }
      ]
    },
    {
      "cell_type": "markdown",
      "metadata": {
        "id": "WXghZzEiMmBg"
      },
      "source": [
        "**Observation** : Data is not Normally Distributed ."
      ]
    },
    {
      "cell_type": "code",
      "metadata": {
        "id": "qt88o3CiMvU1",
        "colab": {
          "base_uri": "https://localhost:8080/",
          "height": 1000
        },
        "outputId": "3b13092c-a0bf-4e95-e047-3045507f39b6"
      },
      "source": [
        "# Making of distplot to show the skewness in different columns\n",
        "\n",
        "from scipy.stats import norm\n",
        "for g in df.describe().columns:\n",
        "    sns.distplot(df[g] , rug=True , color = 'y' , fit=norm)\n",
        "    plt.show()"
      ],
      "execution_count": 12,
      "outputs": [
        {
          "output_type": "display_data",
          "data": {
            "image/png": "[encoded data removed]",
            "text/plain": [
              "<Figure size 432x288 with 1 Axes>"
            ]
          },
          "metadata": {
            "tags": []
          }
        },
        {
          "output_type": "display_data",
          "data": {
            "image/png": "[encoded data removed]",
            "text/plain": [
              "<Figure size 432x288 with 1 Axes>"
            ]
          },
          "metadata": {
            "tags": []
          }
        },
        {
          "output_type": "display_data",
          "data": {
            "image/png": "[encoded data removed]",
            "text/plain": [
              "<Figure size 432x288 with 1 Axes>"
            ]
          },
          "metadata": {
            "tags": []
          }
        },
        {
          "output_type": "display_data",
          "data": {
            "image/png": "[encoded data removed]",
            "text/plain": [
              "<Figure size 432x288 with 1 Axes>"
            ]
          },
          "metadata": {
            "tags": []
          }
        },
        {
          "output_type": "display_data",
          "data": {
            "image/png": "[encoded data removed]",
            "text/plain": [
              "<Figure size 432x288 with 1 Axes>"
            ]
          },
          "metadata": {
            "tags": []
          }
        }
      ]
    },
    {
      "cell_type": "markdown",
      "metadata": {
        "id": "6fkSLAGKM4Cd"
      },
      "source": [
        "**Observation** : It looks like all specification of abalone are close to normal distribution ."
      ]
    },
    {
      "cell_type": "code",
      "metadata": {
        "id": "Ee50yQm4QcEH",
        "colab": {
          "base_uri": "https://localhost:8080/",
          "height": 1000
        },
        "outputId": "05dcd112-7871-4ea0-fe52-679500289cba"
      },
      "source": [
        "from scipy.stats import norm\n",
        "for g in df.describe().columns:\n",
        "    sns.boxplot(df[g] ,color='gold')\n",
        "    plt.show()"
      ],
      "execution_count": 13,
      "outputs": [
        {
          "output_type": "display_data",
          "data": {
            "image/png": "[encoded data removed]",
            "text/plain": [
              "<Figure size 432x288 with 1 Axes>"
            ]
          },
          "metadata": {
            "tags": []
          }
        },
        {
          "output_type": "display_data",
          "data": {
            "image/png": "[encoded data removed]",
            "text/plain": [
              "<Figure size 432x288 with 1 Axes>"
            ]
          },
          "metadata": {
            "tags": []
          }
        },
        {
          "output_type": "display_data",
          "data": {
            "image/png": "[encoded data removed]",
            "text/plain": [
              "<Figure size 432x288 with 1 Axes>"
            ]
          },
          "metadata": {
            "tags": []
          }
        },
        {
          "output_type": "display_data",
          "data": {
            "image/png": "[encoded data removed]",
            "text/plain": [
              "<Figure size 432x288 with 1 Axes>"
            ]
          },
          "metadata": {
            "tags": []
          }
        },
        {
          "output_type": "display_data",
          "data": {
            "image/png": "[encoded data removed]",
            "text/plain": [
              "<Figure size 432x288 with 1 Axes>"
            ]
          },
          "metadata": {
            "tags": []
          }
        }
      ]
    },
    {
      "cell_type": "markdown",
      "metadata": {
        "id": "jLoghLOzQQbg"
      },
      "source": [
        "**Observation** : It looks like there are some outliers present in newsapaper column , otherwise all other specifications are fine ."
      ]
    },
    {
      "cell_type": "code",
      "metadata": {
        "id": "lvI8MFwHM3rc",
        "colab": {
          "base_uri": "https://localhost:8080/",
          "height": 527
        },
        "outputId": "9324880b-8cfa-400b-fda9-9c56212897f3"
      },
      "source": [
        "sns.factorplot(data=df,kind='box',size=10,aspect=2.5)"
      ],
      "execution_count": 14,
      "outputs": [
        {
          "output_type": "execute_result",
          "data": {
            "text/plain": [
              "<seaborn.axisgrid.FacetGrid at 0x7ffade454a90>"
            ]
          },
          "metadata": {
            "tags": []
          },
          "execution_count": 14
        },
        {
          "output_type": "display_data",
          "data": {
            "image/png": "[encoded data removed]",
            "text/plain": [
              "<Figure size 1800x720 with 1 Axes>"
            ]
          },
          "metadata": {
            "tags": []
          }
        }
      ]
    },
    {
      "cell_type": "markdown",
      "metadata": {
        "id": "kJJUqFU__TbV"
      },
      "source": [
        "**Observation** : There are 2 outliers present in newspaper column of the dataset"
      ]
    },
    {
      "cell_type": "code",
      "metadata": {
        "id": "_b1PVg_zNDiI",
        "colab": {
          "base_uri": "https://localhost:8080/",
          "height": 324
        },
        "outputId": "fb83cc36-6388-4a57-a3d5-c42dd5cb6303"
      },
      "source": [
        "fig = plt.figure(figsize=(15, 12))\n",
        "plt.suptitle('Histograms of Numerical Columns', fontsize=20)\n",
        "for i in range(df.shape[1]):\n",
        "    plt.subplot(6, 3, i + 1)\n",
        "    f = plt.gca()\n",
        "    f.set_title(df.columns.values[i])\n",
        "\n",
        "    vals = np.size(df.iloc[:, i].unique())\n",
        "    if vals >= 100:\n",
        "        vals = 100\n",
        "    \n",
        "    plt.hist(df.iloc[:, i], bins=vals, color='#3F5D7D')\n",
        "plt.tight_layout(rect=[0, 0.03, 1, 0.95])"
      ],
      "execution_count": 15,
      "outputs": [
        {
          "output_type": "display_data",
          "data": {
            "image/png": "[encoded data removed]",
            "text/plain": [
              "<Figure size 1080x864 with 5 Axes>"
            ]
          },
          "metadata": {
            "tags": []
          }
        }
      ]
    },
    {
      "cell_type": "markdown",
      "metadata": {
        "id": "-JLn8f15NXdB"
      },
      "source": [
        "**Bivariate Analysis**"
      ]
    },
    {
      "cell_type": "code",
      "metadata": {
        "id": "5wCBbNbXQFuA",
        "colab": {
          "base_uri": "https://localhost:8080/",
          "height": 301
        },
        "outputId": "6005f38f-9705-4ad8-9567-2c732334075b"
      },
      "source": [
        "sns.pairplot(df, x_vars=['TV', 'newspaper', 'radio'], y_vars='sales', height=4, aspect=1, kind='scatter')\n",
        "plt.show()"
      ],
      "execution_count": 16,
      "outputs": [
        {
          "output_type": "display_data",
          "data": {
            "image/png": "[encoded data removed]",
            "text/plain": [
              "<Figure size 864x288 with 3 Axes>"
            ]
          },
          "metadata": {
            "tags": []
          }
        }
      ]
    },
    {
      "cell_type": "code",
      "metadata": {
        "id": "xlkxfCA5NU97",
        "colab": {
          "base_uri": "https://localhost:8080/",
          "height": 410
        },
        "outputId": "5a435483-34b6-4c8a-95a3-6aa224edf555"
      },
      "source": [
        "def lowess_scatter(data, x, y, jitter=0.0, skip_lowess=False):\n",
        "    import statsmodels.api as sm\n",
        "    if skip_lowess:\n",
        "        fit = np.polyfit(data[x], data[y], 1)\n",
        "        line_x = np.linspace(data[x].min(), data[x].max(), 10)\n",
        "        line = np.poly1d(fit)\n",
        "        line_y = list(map(line, line_x))\n",
        "    else:\n",
        "        lowess = sm.nonparametric.lowess(data[y], data[x], frac=.3)\n",
        "        line_x = list(zip(*lowess))[0]\n",
        "        line_y = list(zip(*lowess))[1]\n",
        "\n",
        "    figure = plt.figure(figsize=(8, 6))\n",
        "    axes = figure.add_subplot(1, 1, 1)\n",
        "    xs = data[x]\n",
        "    if jitter > 0.0:\n",
        "        xs = data[x] + stats.norm.rvs(0, 0.5, data[x].size)\n",
        "\n",
        "    axes.scatter(xs, data[y], marker=\"o\", color=\"steelblue\", alpha=0.5)\n",
        "    axes.plot(line_x, line_y, color=\"DarkRed\")\n",
        "    title = \"Plot of {0} v. {1}\".format(x, y)\n",
        "    if not skip_lowess:\n",
        "        title += \" with LOESS\"\n",
        "    axes.set_title(title)\n",
        "    axes.set_xlabel(x)\n",
        "    axes.set_ylabel(y)\n",
        "    axes.xaxis.grid(False)\n",
        "    plt.show()\n",
        "lowess_scatter(df, \"TV\", \"sales\")"
      ],
      "execution_count": 17,
      "outputs": [
        {
          "output_type": "display_data",
          "data": {
            "image/png": "[encoded data removed]",
            "text/plain": [
              "<Figure size 576x432 with 1 Axes>"
            ]
          },
          "metadata": {
            "tags": []
          }
        }
      ]
    },
    {
      "cell_type": "markdown",
      "metadata": {
        "id": "_vViHkxxNuk_"
      },
      "source": [
        "**Observation** : We can see the plot kind of looks like exponential function with monotonically increasing relationship"
      ]
    },
    {
      "cell_type": "code",
      "metadata": {
        "id": "gZ9UfeYaNmfx",
        "colab": {
          "base_uri": "https://localhost:8080/",
          "height": 410
        },
        "outputId": "4d0d16ca-966c-4257-8b84-711c67651b38"
      },
      "source": [
        "lowess_scatter(df, \"radio\", \"sales\")"
      ],
      "execution_count": 18,
      "outputs": [
        {
          "output_type": "display_data",
          "data": {
            "image/png": "[encoded data removed]",
            "text/plain": [
              "<Figure size 576x432 with 1 Axes>"
            ]
          },
          "metadata": {
            "tags": []
          }
        }
      ]
    },
    {
      "cell_type": "code",
      "metadata": {
        "id": "6DYDdBcoOFm_",
        "colab": {
          "base_uri": "https://localhost:8080/",
          "height": 410
        },
        "outputId": "8fead09d-90ac-4c5f-c46b-f32e717cacbf"
      },
      "source": [
        "lowess_scatter(df, \"newspaper\", \"sales\")"
      ],
      "execution_count": 19,
      "outputs": [
        {
          "output_type": "display_data",
          "data": {
            "image/png": "[encoded data removed]",
            "text/plain": [
              "<Figure size 576x432 with 1 Axes>"
            ]
          },
          "metadata": {
            "tags": []
          }
        }
      ]
    },
    {
      "cell_type": "markdown",
      "metadata": {
        "id": "LyTUi1z7OSdJ"
      },
      "source": [
        "**Observation** : Indeed, we see an exponential curve"
      ]
    },
    {
      "cell_type": "markdown",
      "metadata": {
        "id": "KK05CtX1O65n"
      },
      "source": [
        "**Checking Correlation between variables** "
      ]
    },
    {
      "cell_type": "code",
      "metadata": {
        "id": "TqcRzoy2Obg_"
      },
      "source": [
        "cor=df.corr()"
      ],
      "execution_count": 20,
      "outputs": []
    },
    {
      "cell_type": "code",
      "metadata": {
        "id": "nrPYjUKyPBMx",
        "colab": {
          "base_uri": "https://localhost:8080/",
          "height": 204
        },
        "outputId": "bb6a4bce-aee4-4489-8764-518774c97f66"
      },
      "source": [
        "cor"
      ],
      "execution_count": 21,
      "outputs": [
        {
          "output_type": "execute_result",
          "data": {
            "text/html": [
              "<div>\n",
              "<style scoped>\n",
              "    .dataframe tbody tr th:only-of-type {\n",
              "        vertical-align: middle;\n",
              "    }\n",
              "\n",
              "    .dataframe tbody tr th {\n",
              "        vertical-align: top;\n",
              "    }\n",
              "\n",
              "    .dataframe thead th {\n",
              "        text-align: right;\n",
              "    }\n",
              "</style>\n",
              "<table border=\"1\" class=\"dataframe\">\n",
              "  <thead>\n",
              "    <tr style=\"text-align: right;\">\n",
              "      <th></th>\n",
              "      <th>Unnamed: 0</th>\n",
              "      <th>TV</th>\n",
              "      <th>radio</th>\n",
              "      <th>newspaper</th>\n",
              "      <th>sales</th>\n",
              "    </tr>\n",
              "  </thead>\n",
              "  <tbody>\n",
              "    <tr>\n",
              "      <th>Unnamed: 0</th>\n",
              "      <td>1.000000</td>\n",
              "      <td>0.017715</td>\n",
              "      <td>-0.110680</td>\n",
              "      <td>-0.154944</td>\n",
              "      <td>-0.051616</td>\n",
              "    </tr>\n",
              "    <tr>\n",
              "      <th>TV</th>\n",
              "      <td>0.017715</td>\n",
              "      <td>1.000000</td>\n",
              "      <td>0.054809</td>\n",
              "      <td>0.056648</td>\n",
              "      <td>0.782224</td>\n",
              "    </tr>\n",
              "    <tr>\n",
              "      <th>radio</th>\n",
              "      <td>-0.110680</td>\n",
              "      <td>0.054809</td>\n",
              "      <td>1.000000</td>\n",
              "      <td>0.354104</td>\n",
              "      <td>0.576223</td>\n",
              "    </tr>\n",
              "    <tr>\n",
              "      <th>newspaper</th>\n",
              "      <td>-0.154944</td>\n",
              "      <td>0.056648</td>\n",
              "      <td>0.354104</td>\n",
              "      <td>1.000000</td>\n",
              "      <td>0.228299</td>\n",
              "    </tr>\n",
              "    <tr>\n",
              "      <th>sales</th>\n",
              "      <td>-0.051616</td>\n",
              "      <td>0.782224</td>\n",
              "      <td>0.576223</td>\n",
              "      <td>0.228299</td>\n",
              "      <td>1.000000</td>\n",
              "    </tr>\n",
              "  </tbody>\n",
              "</table>\n",
              "</div>"
            ],
            "text/plain": [
              "            Unnamed: 0        TV     radio  newspaper     sales\n",
              "Unnamed: 0    1.000000  0.017715 -0.110680  -0.154944 -0.051616\n",
              "TV            0.017715  1.000000  0.054809   0.056648  0.782224\n",
              "radio        -0.110680  0.054809  1.000000   0.354104  0.576223\n",
              "newspaper    -0.154944  0.056648  0.354104   1.000000  0.228299\n",
              "sales        -0.051616  0.782224  0.576223   0.228299  1.000000"
            ]
          },
          "metadata": {
            "tags": []
          },
          "execution_count": 21
        }
      ]
    },
    {
      "cell_type": "code",
      "metadata": {
        "id": "aQk02CtlPHpS",
        "colab": {
          "base_uri": "https://localhost:8080/",
          "height": 584
        },
        "outputId": "0c1621dd-a03e-470f-cede-37726ed6b8c2"
      },
      "source": [
        "#Correlation with sales with respect to attributes\n",
        "\n",
        "df.corrwith(df.sales).plot.bar(\n",
        "        figsize = (10, 8), title = \"Correlation with sales\", fontsize = 15,\n",
        "        rot = 45, grid = True)"
      ],
      "execution_count": 22,
      "outputs": [
        {
          "output_type": "execute_result",
          "data": {
            "text/plain": [
              "<matplotlib.axes._subplots.AxesSubplot at 0x7fface3f07d0>"
            ]
          },
          "metadata": {
            "tags": []
          },
          "execution_count": 22
        },
        {
          "output_type": "display_data",
          "data": {
            "image/png": "[encoded data removed]",
            "text/plain": [
              "<Figure size 720x576 with 1 Axes>"
            ]
          },
          "metadata": {
            "tags": []
          }
        }
      ]
    },
    {
      "cell_type": "markdown",
      "metadata": {
        "id": "vjT90c01PSaR"
      },
      "source": [
        "**Plotting Heatmap**"
      ]
    },
    {
      "cell_type": "code",
      "metadata": {
        "id": "ZGe41HDFPUZ-",
        "colab": {
          "base_uri": "https://localhost:8080/",
          "height": 489
        },
        "outputId": "aa01c55e-2c50-4cf3-cc6c-e57c9ec209fe"
      },
      "source": [
        "plt.figure(figsize=(10,8))\n",
        "sns.heatmap(cor,annot=True,linewidths=1,linecolor='green',cmap=\"YlGnBu\")\n",
        "plt.show()"
      ],
      "execution_count": 23,
      "outputs": [
        {
          "output_type": "display_data",
          "data": {
            "image/png": "[encoded data removed]",
            "text/plain": [
              "<Figure size 720x576 with 2 Axes>"
            ]
          },
          "metadata": {
            "tags": []
          }
        }
      ]
    },
    {
      "cell_type": "markdown",
      "metadata": {
        "id": "Y2rX5254PdEm"
      },
      "source": [
        "**Observation** : As is visible from the pairplot and the heatmap, the variable TV seems to be most correlated with Sales. So let's go ahead and perform simple linear regression using TV as our feature variable."
      ]
    },
    {
      "cell_type": "code",
      "metadata": {
        "id": "Ei7g7k0EPknY",
        "colab": {
          "base_uri": "https://localhost:8080/",
          "height": 502
        },
        "outputId": "cbddf45a-e5a1-4a3b-e4a5-1549b1ff206c"
      },
      "source": [
        "# Generate a mask for the upper triangle\n",
        "mask = np.zeros_like(cor, dtype=np.bool)\n",
        "mask[np.triu_indices_from(mask)] = True\n",
        "\n",
        "# Set up the matplotlib figure\n",
        "f, ax = plt.subplots(figsize=(10, 8))\n",
        "\n",
        "# Generate a custom diverging colormap\n",
        "cmap = sns.diverging_palette(220, 10, as_cmap=True)\n",
        "\n",
        "# Draw the heatmap with the mask and correct aspect ratio\n",
        "sns.heatmap(cor, mask=mask, cmap=cmap, vmax=.3, center=0,\n",
        "            square=True, linewidths=.5, cbar_kws={\"shrink\": .5})"
      ],
      "execution_count": 24,
      "outputs": [
        {
          "output_type": "execute_result",
          "data": {
            "text/plain": [
              "<matplotlib.axes._subplots.AxesSubplot at 0x7fface2c4610>"
            ]
          },
          "metadata": {
            "tags": []
          },
          "execution_count": 24
        },
        {
          "output_type": "display_data",
          "data": {
            "image/png": "[encoded data removed]",
            "text/plain": [
              "<Figure size 720x576 with 2 Axes>"
            ]
          },
          "metadata": {
            "tags": []
          }
        }
      ]
    },
    {
      "cell_type": "code",
      "metadata": {
        "id": "r3tW0uKgWMu_"
      },
      "source": [
        "#Dropping Irrelevant columns\n",
        "\n",
        "df.drop(['Unnamed: 0'],axis=1, inplace=True)"
      ],
      "execution_count": 25,
      "outputs": []
    },
    {
      "cell_type": "markdown",
      "metadata": {
        "id": "XqgJl-ggRrlV"
      },
      "source": [
        "# **Data Cleaning**"
      ]
    },
    {
      "cell_type": "markdown",
      "metadata": {
        "id": "ptTKOt9jRwRA"
      },
      "source": [
        "**1.Checking Null Values**"
      ]
    },
    {
      "cell_type": "code",
      "metadata": {
        "id": "YEvDCYSzRrGk",
        "colab": {
          "base_uri": "https://localhost:8080/"
        },
        "outputId": "3388ffbe-f3b0-4aaf-8da3-f20a5b1a479a"
      },
      "source": [
        "df.isnull().sum()"
      ],
      "execution_count": 26,
      "outputs": [
        {
          "output_type": "execute_result",
          "data": {
            "text/plain": [
              "TV           0\n",
              "radio        0\n",
              "newspaper    0\n",
              "sales        0\n",
              "dtype: int64"
            ]
          },
          "metadata": {
            "tags": []
          },
          "execution_count": 26
        }
      ]
    },
    {
      "cell_type": "markdown",
      "metadata": {
        "id": "d6zHv_1VR5dy"
      },
      "source": [
        "**Observation** : There are no null values present in the dataset ."
      ]
    },
    {
      "cell_type": "code",
      "metadata": {
        "id": "wvM6LnWzSDVs",
        "colab": {
          "base_uri": "https://localhost:8080/",
          "height": 338
        },
        "outputId": "f5007fb7-9cd1-4841-b335-0b69e0370051"
      },
      "source": [
        "#Plotting Null Values\n",
        "\n",
        "plt.figure(figsize=[8,5])\n",
        "sns.heatmap(df.isnull())\n",
        "plt.title(\"Null Values\")\n",
        "plt.show()"
      ],
      "execution_count": 27,
      "outputs": [
        {
          "output_type": "display_data",
          "data": {
            "image/png": "[encoded data removed]",
            "text/plain": [
              "<Figure size 576x360 with 2 Axes>"
            ]
          },
          "metadata": {
            "tags": []
          }
        }
      ]
    },
    {
      "cell_type": "markdown",
      "metadata": {
        "id": "6QRSjt_8SOSw"
      },
      "source": [
        "**2.Checking for Outliers**"
      ]
    },
    {
      "cell_type": "code",
      "metadata": {
        "id": "bDBkhVriSQT7"
      },
      "source": [
        "#Compute Outliers using zscore method\n",
        "\n",
        "from scipy.stats import zscore\n",
        "\n",
        "z=np.abs(zscore(df))\n",
        "\n",
        "new_df=df [(z<3).all(axis=1)]"
      ],
      "execution_count": 28,
      "outputs": []
    },
    {
      "cell_type": "code",
      "metadata": {
        "id": "ZxXfqKWqSThH",
        "colab": {
          "base_uri": "https://localhost:8080/"
        },
        "outputId": "4b178674-0f4b-471f-942a-e98e8cbb3bf6"
      },
      "source": [
        "df.shape"
      ],
      "execution_count": 29,
      "outputs": [
        {
          "output_type": "execute_result",
          "data": {
            "text/plain": [
              "(200, 4)"
            ]
          },
          "metadata": {
            "tags": []
          },
          "execution_count": 29
        }
      ]
    },
    {
      "cell_type": "code",
      "metadata": {
        "id": "OWCSENN4SXDh",
        "colab": {
          "base_uri": "https://localhost:8080/"
        },
        "outputId": "2f342bc6-43e0-466e-f1cb-2f1b5387e27f"
      },
      "source": [
        "new_df.shape"
      ],
      "execution_count": 30,
      "outputs": [
        {
          "output_type": "execute_result",
          "data": {
            "text/plain": [
              "(198, 4)"
            ]
          },
          "metadata": {
            "tags": []
          },
          "execution_count": 30
        }
      ]
    },
    {
      "cell_type": "code",
      "metadata": {
        "id": "23Ipi9NcSa99",
        "colab": {
          "base_uri": "https://localhost:8080/"
        },
        "outputId": "dde72af7-4804-4ab4-8653-190d60b01f1f"
      },
      "source": [
        "#Computing Outliers\n",
        "\n",
        "((200-198)/200)*100"
      ],
      "execution_count": 31,
      "outputs": [
        {
          "output_type": "execute_result",
          "data": {
            "text/plain": [
              "1.0"
            ]
          },
          "metadata": {
            "tags": []
          },
          "execution_count": 31
        }
      ]
    },
    {
      "cell_type": "markdown",
      "metadata": {
        "id": "apxKa1cISmdq"
      },
      "source": [
        "**Observation** :There will be a loss of 1% of data from the dataset which could be affordable ."
      ]
    },
    {
      "cell_type": "markdown",
      "metadata": {
        "id": "macBsF1jS3MW"
      },
      "source": [
        "**3.Checking for Skewness**"
      ]
    },
    {
      "cell_type": "code",
      "metadata": {
        "id": "ZlUOpbUsS5h6",
        "colab": {
          "base_uri": "https://localhost:8080/"
        },
        "outputId": "9741d4cd-0908-46d5-9dd3-4440464148ba"
      },
      "source": [
        "new_df.skew()"
      ],
      "execution_count": 32,
      "outputs": [
        {
          "output_type": "execute_result",
          "data": {
            "text/plain": [
              "TV          -0.082332\n",
              "radio        0.114842\n",
              "newspaper    0.650112\n",
              "sales        0.407130\n",
              "dtype: float64"
            ]
          },
          "metadata": {
            "tags": []
          },
          "execution_count": 32
        }
      ]
    },
    {
      "cell_type": "markdown",
      "metadata": {
        "id": "6CY5P7kTTBt_"
      },
      "source": [
        "**Observation** : Newspaper variable have more skewness . so lets remove it"
      ]
    },
    {
      "cell_type": "code",
      "metadata": {
        "id": "MfX7BPXCTWeL"
      },
      "source": [
        "#Using PowerTransformer to remove skewness\n",
        "\n",
        "from sklearn.preprocessing import PowerTransformer\n",
        "\n",
        "pt=PowerTransformer(method='yeo-johnson')\n",
        "for i in new_df.skew().index[1:]:\n",
        "    if new_df.skew().loc[i]>0.55:\n",
        "        new_df[i]=pt.fit_transform(new_df[i].values.reshape(-1,1))\n",
        "    if new_df.skew().loc[i]<-0.55:\n",
        "        new_df[i]=pt.fit_transform(new_df[i].values.reshape(-1,1))\n",
        "    else:\n",
        "        new_df[i]=new_df[i]"
      ],
      "execution_count": 33,
      "outputs": []
    },
    {
      "cell_type": "code",
      "metadata": {
        "id": "Oiej30xITjT5",
        "colab": {
          "base_uri": "https://localhost:8080/"
        },
        "outputId": "f289c420-39fc-46ac-e835-d26d9b83b37d"
      },
      "source": [
        "new_df.skew()"
      ],
      "execution_count": 34,
      "outputs": [
        {
          "output_type": "execute_result",
          "data": {
            "text/plain": [
              "TV          -0.082332\n",
              "radio        0.114842\n",
              "newspaper   -0.101288\n",
              "sales        0.407130\n",
              "dtype: float64"
            ]
          },
          "metadata": {
            "tags": []
          },
          "execution_count": 34
        }
      ]
    },
    {
      "cell_type": "markdown",
      "metadata": {
        "id": "O2pnGvRET_Tu"
      },
      "source": [
        "**Observation** : The skewness has been removed and in range between -0.5 to 0.5 . hance data is ready for training ."
      ]
    },
    {
      "cell_type": "markdown",
      "metadata": {
        "id": "slpH8h0XUEBM"
      },
      "source": [
        "**Split Data and Target**"
      ]
    },
    {
      "cell_type": "code",
      "metadata": {
        "id": "4D_uowlNUDnl"
      },
      "source": [
        "#Preparing the Data\n",
        "#Setting X and y-axis .\n",
        "#Since we want to predict the Happiness Score of the World Happiness Report, we will drop the ‘sales’ column.\n",
        "\n",
        "X = new_df.drop(['sales'], axis=1)\n",
        "y = new_df['sales'].astype('int')"
      ],
      "execution_count": 35,
      "outputs": []
    },
    {
      "cell_type": "code",
      "metadata": {
        "id": "hTtKDgfzVaeZ",
        "colab": {
          "base_uri": "https://localhost:8080/",
          "height": 419
        },
        "outputId": "3693eed7-139b-47c1-a198-5bcff7de146d"
      },
      "source": [
        "X"
      ],
      "execution_count": 36,
      "outputs": [
        {
          "output_type": "execute_result",
          "data": {
            "text/html": [
              "<div>\n",
              "<style scoped>\n",
              "    .dataframe tbody tr th:only-of-type {\n",
              "        vertical-align: middle;\n",
              "    }\n",
              "\n",
              "    .dataframe tbody tr th {\n",
              "        vertical-align: top;\n",
              "    }\n",
              "\n",
              "    .dataframe thead th {\n",
              "        text-align: right;\n",
              "    }\n",
              "</style>\n",
              "<table border=\"1\" class=\"dataframe\">\n",
              "  <thead>\n",
              "    <tr style=\"text-align: right;\">\n",
              "      <th></th>\n",
              "      <th>TV</th>\n",
              "      <th>radio</th>\n",
              "      <th>newspaper</th>\n",
              "    </tr>\n",
              "  </thead>\n",
              "  <tbody>\n",
              "    <tr>\n",
              "      <th>0</th>\n",
              "      <td>230.1</td>\n",
              "      <td>37.8</td>\n",
              "      <td>1.604196</td>\n",
              "    </tr>\n",
              "    <tr>\n",
              "      <th>1</th>\n",
              "      <td>44.5</td>\n",
              "      <td>39.3</td>\n",
              "      <td>0.831044</td>\n",
              "    </tr>\n",
              "    <tr>\n",
              "      <th>2</th>\n",
              "      <td>17.2</td>\n",
              "      <td>45.9</td>\n",
              "      <td>1.607052</td>\n",
              "    </tr>\n",
              "    <tr>\n",
              "      <th>3</th>\n",
              "      <td>151.5</td>\n",
              "      <td>41.3</td>\n",
              "      <td>1.283768</td>\n",
              "    </tr>\n",
              "    <tr>\n",
              "      <th>4</th>\n",
              "      <td>180.8</td>\n",
              "      <td>10.8</td>\n",
              "      <td>1.280622</td>\n",
              "    </tr>\n",
              "    <tr>\n",
              "      <th>...</th>\n",
              "      <td>...</td>\n",
              "      <td>...</td>\n",
              "      <td>...</td>\n",
              "    </tr>\n",
              "    <tr>\n",
              "      <th>195</th>\n",
              "      <td>38.2</td>\n",
              "      <td>3.7</td>\n",
              "      <td>-0.687435</td>\n",
              "    </tr>\n",
              "    <tr>\n",
              "      <th>196</th>\n",
              "      <td>94.2</td>\n",
              "      <td>4.9</td>\n",
              "      <td>-1.146090</td>\n",
              "    </tr>\n",
              "    <tr>\n",
              "      <th>197</th>\n",
              "      <td>177.0</td>\n",
              "      <td>9.3</td>\n",
              "      <td>-1.314437</td>\n",
              "    </tr>\n",
              "    <tr>\n",
              "      <th>198</th>\n",
              "      <td>283.6</td>\n",
              "      <td>42.0</td>\n",
              "      <td>1.517395</td>\n",
              "    </tr>\n",
              "    <tr>\n",
              "      <th>199</th>\n",
              "      <td>232.1</td>\n",
              "      <td>8.6</td>\n",
              "      <td>-1.091084</td>\n",
              "    </tr>\n",
              "  </tbody>\n",
              "</table>\n",
              "<p>198 rows × 3 columns</p>\n",
              "</div>"
            ],
            "text/plain": [
              "        TV  radio  newspaper\n",
              "0    230.1   37.8   1.604196\n",
              "1     44.5   39.3   0.831044\n",
              "2     17.2   45.9   1.607052\n",
              "3    151.5   41.3   1.283768\n",
              "4    180.8   10.8   1.280622\n",
              "..     ...    ...        ...\n",
              "195   38.2    3.7  -0.687435\n",
              "196   94.2    4.9  -1.146090\n",
              "197  177.0    9.3  -1.314437\n",
              "198  283.6   42.0   1.517395\n",
              "199  232.1    8.6  -1.091084\n",
              "\n",
              "[198 rows x 3 columns]"
            ]
          },
          "metadata": {
            "tags": []
          },
          "execution_count": 36
        }
      ]
    },
    {
      "cell_type": "code",
      "metadata": {
        "id": "Y65x6EuaVeVP",
        "colab": {
          "base_uri": "https://localhost:8080/"
        },
        "outputId": "9aab9374-15fc-4d07-af03-098ad024007a"
      },
      "source": [
        "y"
      ],
      "execution_count": 37,
      "outputs": [
        {
          "output_type": "execute_result",
          "data": {
            "text/plain": [
              "0      22\n",
              "1      10\n",
              "2       9\n",
              "3      18\n",
              "4      12\n",
              "       ..\n",
              "195     7\n",
              "196     9\n",
              "197    12\n",
              "198    25\n",
              "199    13\n",
              "Name: sales, Length: 198, dtype: int64"
            ]
          },
          "metadata": {
            "tags": []
          },
          "execution_count": 37
        }
      ]
    },
    {
      "cell_type": "markdown",
      "metadata": {
        "id": "7AoWIY9DUSR-"
      },
      "source": [
        "**Scaling of Data**\n",
        "\n",
        "Here we need to standardize them so that we can use the data properly. To do this, we need to apply the Scaling process to the data. Scikit-Learn's \"StandardScaler\" class can be used for this process:"
      ]
    },
    {
      "cell_type": "code",
      "metadata": {
        "id": "xRhTmDX4UUly"
      },
      "source": [
        "#Scale the data\n",
        "from sklearn.preprocessing import MinMaxScaler\n",
        "\n",
        "scaler = MinMaxScaler()\n",
        "\n",
        "X = pd.DataFrame(scaler.fit_transform(X),columns = X.columns)"
      ],
      "execution_count": 38,
      "outputs": []
    },
    {
      "cell_type": "code",
      "metadata": {
        "id": "4i8paX8PUZY6",
        "colab": {
          "base_uri": "https://localhost:8080/",
          "height": 419
        },
        "outputId": "f862d022-1a4e-4bc5-ec19-654f2c7a533c"
      },
      "source": [
        "X"
      ],
      "execution_count": 39,
      "outputs": [
        {
          "output_type": "execute_result",
          "data": {
            "text/html": [
              "<div>\n",
              "<style scoped>\n",
              "    .dataframe tbody tr th:only-of-type {\n",
              "        vertical-align: middle;\n",
              "    }\n",
              "\n",
              "    .dataframe tbody tr th {\n",
              "        vertical-align: top;\n",
              "    }\n",
              "\n",
              "    .dataframe thead th {\n",
              "        text-align: right;\n",
              "    }\n",
              "</style>\n",
              "<table border=\"1\" class=\"dataframe\">\n",
              "  <thead>\n",
              "    <tr style=\"text-align: right;\">\n",
              "      <th></th>\n",
              "      <th>TV</th>\n",
              "      <th>radio</th>\n",
              "      <th>newspaper</th>\n",
              "    </tr>\n",
              "  </thead>\n",
              "  <tbody>\n",
              "    <tr>\n",
              "      <th>0</th>\n",
              "      <td>0.783202</td>\n",
              "      <td>0.762097</td>\n",
              "      <td>0.878788</td>\n",
              "    </tr>\n",
              "    <tr>\n",
              "      <th>1</th>\n",
              "      <td>0.149539</td>\n",
              "      <td>0.792339</td>\n",
              "      <td>0.703678</td>\n",
              "    </tr>\n",
              "    <tr>\n",
              "      <th>2</th>\n",
              "      <td>0.056333</td>\n",
              "      <td>0.925403</td>\n",
              "      <td>0.879435</td>\n",
              "    </tr>\n",
              "    <tr>\n",
              "      <th>3</th>\n",
              "      <td>0.514851</td>\n",
              "      <td>0.832661</td>\n",
              "      <td>0.806215</td>\n",
              "    </tr>\n",
              "    <tr>\n",
              "      <th>4</th>\n",
              "      <td>0.614886</td>\n",
              "      <td>0.217742</td>\n",
              "      <td>0.805502</td>\n",
              "    </tr>\n",
              "    <tr>\n",
              "      <th>...</th>\n",
              "      <td>...</td>\n",
              "      <td>...</td>\n",
              "      <td>...</td>\n",
              "    </tr>\n",
              "    <tr>\n",
              "      <th>193</th>\n",
              "      <td>0.128030</td>\n",
              "      <td>0.074597</td>\n",
              "      <td>0.359758</td>\n",
              "    </tr>\n",
              "    <tr>\n",
              "      <th>194</th>\n",
              "      <td>0.319222</td>\n",
              "      <td>0.098790</td>\n",
              "      <td>0.255878</td>\n",
              "    </tr>\n",
              "    <tr>\n",
              "      <th>195</th>\n",
              "      <td>0.601912</td>\n",
              "      <td>0.187500</td>\n",
              "      <td>0.217749</td>\n",
              "    </tr>\n",
              "    <tr>\n",
              "      <th>196</th>\n",
              "      <td>0.965859</td>\n",
              "      <td>0.846774</td>\n",
              "      <td>0.859129</td>\n",
              "    </tr>\n",
              "    <tr>\n",
              "      <th>197</th>\n",
              "      <td>0.790031</td>\n",
              "      <td>0.173387</td>\n",
              "      <td>0.268336</td>\n",
              "    </tr>\n",
              "  </tbody>\n",
              "</table>\n",
              "<p>198 rows × 3 columns</p>\n",
              "</div>"
            ],
            "text/plain": [
              "           TV     radio  newspaper\n",
              "0    0.783202  0.762097   0.878788\n",
              "1    0.149539  0.792339   0.703678\n",
              "2    0.056333  0.925403   0.879435\n",
              "3    0.514851  0.832661   0.806215\n",
              "4    0.614886  0.217742   0.805502\n",
              "..        ...       ...        ...\n",
              "193  0.128030  0.074597   0.359758\n",
              "194  0.319222  0.098790   0.255878\n",
              "195  0.601912  0.187500   0.217749\n",
              "196  0.965859  0.846774   0.859129\n",
              "197  0.790031  0.173387   0.268336\n",
              "\n",
              "[198 rows x 3 columns]"
            ]
          },
          "metadata": {
            "tags": []
          },
          "execution_count": 39
        }
      ]
    },
    {
      "cell_type": "code",
      "metadata": {
        "id": "WeQ4c8pyUdtM",
        "colab": {
          "base_uri": "https://localhost:8080/",
          "height": 204
        },
        "outputId": "33a891ea-f25f-4003-ab0c-964900e9ca1b"
      },
      "source": [
        "new_df.head()"
      ],
      "execution_count": 40,
      "outputs": [
        {
          "output_type": "execute_result",
          "data": {
            "text/html": [
              "<div>\n",
              "<style scoped>\n",
              "    .dataframe tbody tr th:only-of-type {\n",
              "        vertical-align: middle;\n",
              "    }\n",
              "\n",
              "    .dataframe tbody tr th {\n",
              "        vertical-align: top;\n",
              "    }\n",
              "\n",
              "    .dataframe thead th {\n",
              "        text-align: right;\n",
              "    }\n",
              "</style>\n",
              "<table border=\"1\" class=\"dataframe\">\n",
              "  <thead>\n",
              "    <tr style=\"text-align: right;\">\n",
              "      <th></th>\n",
              "      <th>TV</th>\n",
              "      <th>radio</th>\n",
              "      <th>newspaper</th>\n",
              "      <th>sales</th>\n",
              "    </tr>\n",
              "  </thead>\n",
              "  <tbody>\n",
              "    <tr>\n",
              "      <th>0</th>\n",
              "      <td>230.1</td>\n",
              "      <td>37.8</td>\n",
              "      <td>1.604196</td>\n",
              "      <td>22.1</td>\n",
              "    </tr>\n",
              "    <tr>\n",
              "      <th>1</th>\n",
              "      <td>44.5</td>\n",
              "      <td>39.3</td>\n",
              "      <td>0.831044</td>\n",
              "      <td>10.4</td>\n",
              "    </tr>\n",
              "    <tr>\n",
              "      <th>2</th>\n",
              "      <td>17.2</td>\n",
              "      <td>45.9</td>\n",
              "      <td>1.607052</td>\n",
              "      <td>9.3</td>\n",
              "    </tr>\n",
              "    <tr>\n",
              "      <th>3</th>\n",
              "      <td>151.5</td>\n",
              "      <td>41.3</td>\n",
              "      <td>1.283768</td>\n",
              "      <td>18.5</td>\n",
              "    </tr>\n",
              "    <tr>\n",
              "      <th>4</th>\n",
              "      <td>180.8</td>\n",
              "      <td>10.8</td>\n",
              "      <td>1.280622</td>\n",
              "      <td>12.9</td>\n",
              "    </tr>\n",
              "  </tbody>\n",
              "</table>\n",
              "</div>"
            ],
            "text/plain": [
              "      TV  radio  newspaper  sales\n",
              "0  230.1   37.8   1.604196   22.1\n",
              "1   44.5   39.3   0.831044   10.4\n",
              "2   17.2   45.9   1.607052    9.3\n",
              "3  151.5   41.3   1.283768   18.5\n",
              "4  180.8   10.8   1.280622   12.9"
            ]
          },
          "metadata": {
            "tags": []
          },
          "execution_count": 40
        }
      ]
    },
    {
      "cell_type": "markdown",
      "metadata": {
        "id": "5jY_p5edUiJt"
      },
      "source": [
        "**Preparation of Test and Train Data**\n",
        "\n",
        "The final process here is the smooth and random separation of test and train data. For this, we will benefit from the method named \"train_testsplit\" from the Scikit-Learn library. I would like to use 20% of our data for testing and 80% for training purposes. The process is very simple:"
      ]
    },
    {
      "cell_type": "code",
      "metadata": {
        "id": "eXI-CommUnNX"
      },
      "source": [
        "from sklearn.model_selection import train_test_split\n",
        "\n",
        "from sklearn.metrics import accuracy_score\n",
        "\n",
        "X_train,X_test,y_train,y_test=train_test_split(X,y,test_size=.30,random_state=6)\n",
        "\n",
        "# Parameters:\n",
        "# test_size : It decides how many test data in percentage.\n",
        "# random_state : This parameter can take any value. This value decides randomness seed."
      ],
      "execution_count": 41,
      "outputs": []
    },
    {
      "cell_type": "code",
      "metadata": {
        "colab": {
          "base_uri": "https://localhost:8080/"
        },
        "id": "JgAdxW339iZe",
        "outputId": "fbedfec2-6ce1-4357-825d-20dfa46d09ec"
      },
      "source": [
        "#Fitting Random Forest Regressor to the Training set\n",
        "\n",
        "from sklearn.ensemble import RandomForestRegressor\n",
        "\n",
        "Regressor = RandomForestRegressor(n_estimators = 100, criterion = 'mse', random_state = None,)\n",
        "Regressor.fit(X, y)\n",
        "features_label = df.columns\n",
        "importances = Regressor.feature_importances_\n",
        "indices = np. argsort(importances)[::-1]\n",
        "for i in range(X.shape[1]):\n",
        "    print (\"%2d) %-*s %f\" % (i + 1, 30, features_label[i],importances[indices[i]]))"
      ],
      "execution_count": 42,
      "outputs": [
        {
          "output_type": "stream",
          "text": [
            " 1) TV                             0.629527\n",
            " 2) radio                          0.361692\n",
            " 3) newspaper                      0.008782\n"
          ],
          "name": "stdout"
        }
      ]
    },
    {
      "cell_type": "markdown",
      "metadata": {
        "id": "NhBKhZxN-Phf"
      },
      "source": [
        "**Feature Importance**"
      ]
    },
    {
      "cell_type": "code",
      "metadata": {
        "colab": {
          "base_uri": "https://localhost:8080/",
          "height": 640
        },
        "id": "xpF1xtio-USp",
        "outputId": "c3da86c4-a196-4c78-a723-93708d700326"
      },
      "source": [
        "plt.title('Feature Importances')\n",
        "plt.figure(figsize=(8,5))\n",
        "plt.bar(range(X.shape[1]),importances[indices], color=\"green\", align=\"center\")\n",
        "plt.xticks(range(X.shape[1]),features_label, rotation=90)\n",
        "plt.xlim([-1, X.shape[1]])\n",
        "plt.show()"
      ],
      "execution_count": 43,
      "outputs": [
        {
          "output_type": "display_data",
          "data": {
            "image/png": "[encoded data removed]",
            "text/plain": [
              "<Figure size 432x288 with 1 Axes>"
            ]
          },
          "metadata": {
            "tags": []
          }
        },
        {
          "output_type": "display_data",
          "data": {
            "image/png": "[encoded data removed]",
            "text/plain": [
              "<Figure size 576x360 with 1 Axes>"
            ]
          },
          "metadata": {
            "tags": []
          }
        }
      ]
    },
    {
      "cell_type": "markdown",
      "metadata": {
        "id": "RJ2CpQ9eUrRM"
      },
      "source": [
        "# **Building Model**"
      ]
    },
    {
      "cell_type": "code",
      "metadata": {
        "id": "75JfI9lqUwMx"
      },
      "source": [
        "#Importing Packages\n",
        "\n",
        "from sklearn.model_selection import  train_test_split, cross_val_score\n",
        "from sklearn.feature_selection import SelectKBest\n",
        "from sklearn.metrics import r2_score, mean_squared_error\n",
        "\n",
        "from sklearn.neighbors import KNeighborsRegressor\n",
        "from sklearn.ensemble import  RandomForestRegressor\n",
        "from sklearn.linear_model import LinearRegression\n",
        "from sklearn.ensemble import  GradientBoostingRegressor\n",
        "from sklearn.linear_model import  Ridge\n",
        "from sklearn.svm import SVR\n",
        "import warnings\n",
        "warnings.filterwarnings(\"ignore\", category=DeprecationWarning) "
      ],
      "execution_count": 44,
      "outputs": []
    },
    {
      "cell_type": "markdown",
      "metadata": {
        "id": "BKBUS1LhfTSZ"
      },
      "source": [
        "**1.Linear Regression**"
      ]
    },
    {
      "cell_type": "code",
      "metadata": {
        "id": "GmyI2Tv1U00R",
        "colab": {
          "base_uri": "https://localhost:8080/"
        },
        "outputId": "98eb7228-2bd0-403f-da37-a5f0f07d860d"
      },
      "source": [
        "from sklearn.linear_model import LinearRegression\n",
        "LRmodel = LinearRegression()\n",
        "\n",
        "LRmodel.fit(X_train, y_train)"
      ],
      "execution_count": 76,
      "outputs": [
        {
          "output_type": "execute_result",
          "data": {
            "text/plain": [
              "LinearRegression(copy_X=True, fit_intercept=True, n_jobs=None, normalize=False)"
            ]
          },
          "metadata": {
            "tags": []
          },
          "execution_count": 76
        }
      ]
    },
    {
      "cell_type": "code",
      "metadata": {
        "colab": {
          "base_uri": "https://localhost:8080/"
        },
        "id": "G5jqiZTNfIlN",
        "outputId": "3278f138-98e3-4da3-91da-589d3c17f925"
      },
      "source": [
        "#Predicting and estimating the result\n",
        "\n",
        "y_pred_lr = LRmodel.predict(X_test)\n",
        "print(\"Linear Regression Report: \\n\\n\", LinearRegression(y_test, y_pred_lr))\n",
        "print(\"Test Accuracy: {}%\".format(round(LRmodel.score(X_test, y_test)*100, 2)))"
      ],
      "execution_count": 77,
      "outputs": [
        {
          "output_type": "stream",
          "text": [
            "Linear Regression Report: \n",
            "\n",
            " LinearRegression(copy_X=True,\n",
            "                 fit_intercept=57     13\n",
            "4      12\n",
            "171    14\n",
            "13      9\n",
            "94     11\n",
            "119     6\n",
            "117     9\n",
            "11     17\n",
            "39     21\n",
            "152    16\n",
            "175    27\n",
            "53     21\n",
            "20     18\n",
            "93     22\n",
            "12      9\n",
            "133    19\n",
            "115    12\n",
            "196     9\n",
            "118    15\n",
            "99     17\n",
            "50     11\n",
            "123    15\n",
            "122    11\n",
            "130     1\n",
            "106     7\n",
            "72      8\n",
            "62     15\n",
            "84     21\n",
            "19     14\n",
            "55     23\n",
            "31     11\n",
            "6      11\n",
            "54     20\n",
            "0      22\n",
            "113    15\n",
            "100    11\n",
            "185    22\n",
            "105    19\n",
            "2       9\n",
            "65      9\n",
            "114    14\n",
            "172     7\n",
            "17     24\n",
            "60      8\n",
            "139    20\n",
            "98     25\n",
            "73     11\n",
            "170     8\n",
            "90     11\n",
            "169    15\n",
            "36     25\n",
            "151    11\n",
            "160    14\n",
            "182     8\n",
            "110    13\n",
            "5       7\n",
            "162    14\n",
            "102    14\n",
            "82     11\n",
            "180    10\n",
            "Name: sales, dtype: int64,\n",
            "                 n_jobs=None,\n",
            "                 normalize=array([12.210...\n",
            "       10.07186653, 16.06644673, 20.2636236 , 13.61648937, 20.91017994,\n",
            "       10.89658686, 11.39746576, 19.63303044, 20.05601086, 15.68950405,\n",
            "       13.20702695, 20.2568308 , 17.64314565, 12.24996348,  7.24942144,\n",
            "       15.04380405,  7.25322969, 22.63999228,  5.26046254, 19.05004582,\n",
            "       23.51900999,  9.34401861,  6.95288075,  9.33288817, 17.02295515,\n",
            "       22.66707692,  9.5338049 , 13.63720963,  6.11763637, 14.12293546,\n",
            "       12.46451975, 14.3238133 , 16.80617805,  9.78804788,  9.86498523]))\n",
            "Test Accuracy: 87.57%\n"
          ],
          "name": "stdout"
        }
      ]
    },
    {
      "cell_type": "code",
      "metadata": {
        "colab": {
          "base_uri": "https://localhost:8080/"
        },
        "id": "IRt2Q9QnRYi6",
        "outputId": "cc702a7e-938a-452b-8d4d-948132ec0a0c"
      },
      "source": [
        "# The coefficients\n",
        "print('Coefficients: \\n', LRmodel.coef_)\n",
        "# The mean squared error\n",
        "print('Mean squared error: %.2f'\n",
        "      % mean_squared_error(y_test, LRpred))\n",
        "# The coefficient of determination: 1 is perfect prediction\n",
        "print('Coefficient of determination: %.2f'\n",
        "      % r2_score(y_test, LRpred))"
      ],
      "execution_count": 78,
      "outputs": [
        {
          "output_type": "stream",
          "text": [
            "Coefficients: \n",
            " [12.89394292  9.58937126  0.24256044]\n",
            "Mean squared error: 3.91\n",
            "Coefficient of determination: 0.88\n"
          ],
          "name": "stdout"
        }
      ]
    },
    {
      "cell_type": "markdown",
      "metadata": {
        "id": "cT971349smyU"
      },
      "source": [
        "**2.Ridge Model**"
      ]
    },
    {
      "cell_type": "code",
      "metadata": {
        "colab": {
          "base_uri": "https://localhost:8080/"
        },
        "id": "pxwAHeijg044",
        "outputId": "447afb2d-fe2f-4fb1-ea99-f1bf08a54a99"
      },
      "source": [
        "from sklearn.linear_model import  Ridge\n",
        "\n",
        "Rmodel = Ridge()\n",
        "Rmodel.fit(X_train, y_train)"
      ],
      "execution_count": 47,
      "outputs": [
        {
          "output_type": "execute_result",
          "data": {
            "text/plain": [
              "Ridge(alpha=1.0, copy_X=True, fit_intercept=True, max_iter=None,\n",
              "      normalize=False, random_state=None, solver='auto', tol=0.001)"
            ]
          },
          "metadata": {
            "tags": []
          },
          "execution_count": 47
        }
      ]
    },
    {
      "cell_type": "code",
      "metadata": {
        "colab": {
          "base_uri": "https://localhost:8080/"
        },
        "id": "J9H0XRgphLWp",
        "outputId": "b5b70b5a-acb5-472c-99f1-da77e503cdce"
      },
      "source": [
        "#Predicting and estimating the result\n",
        "\n",
        "y_pred_rm = Rmodel.predict(X_test)\n",
        "print(\"Ridge Model Report : \\n\\n\", Ridge(y_test, y_pred_rm))\n",
        "print(\"Test Accuracy: {}%\".format(round(Rmodel.score(X_test, y_test)*100, 2)))"
      ],
      "execution_count": 48,
      "outputs": [
        {
          "output_type": "stream",
          "text": [
            "Ridge Model Report : \n",
            "\n",
            " Ridge(alpha=57     13\n",
            "4      12\n",
            "171    14\n",
            "13      9\n",
            "94     11\n",
            "119     6\n",
            "117     9\n",
            "11     17\n",
            "39     21\n",
            "152    16\n",
            "175    27\n",
            "53     21\n",
            "20     18\n",
            "93     22\n",
            "12      9\n",
            "133    19\n",
            "115    12\n",
            "196     9\n",
            "118    15\n",
            "99     17\n",
            "50     11\n",
            "123    15\n",
            "122    11\n",
            "130     1\n",
            "106     7\n",
            "72      8\n",
            "62     15\n",
            "84     21\n",
            "19     14\n",
            "55     23\n",
            "31     11\n",
            "6      11\n",
            "54     20\n",
            "0      22\n",
            "113    15\n",
            "100    11\n",
            "185    22\n",
            "105    19\n",
            "2       9\n",
            "65      9\n",
            "114    14\n",
            "172     7\n",
            "17     24\n",
            "60      8\n",
            "139    20\n",
            "98     25\n",
            "73     11\n",
            "170     8\n",
            "90     11\n",
            "169    15\n",
            "36     25\n",
            "151    11\n",
            "160    14\n",
            "182     8\n",
            "110    13\n",
            "5       7\n",
            "162    14\n",
            "102    14\n",
            "82     11\n",
            "180    10\n",
            "Name: sales, dtype: int64,\n",
            "      copy_X=True,\n",
            "      fit_intercept=array([12.26980538, 12.7768859 , 13.8714022...\n",
            "       13.28234766, 19.69059047, 17.36463711, 12.40190081,  7.60715977,\n",
            "       14.91585148,  7.69289436, 21.97793192,  5.88007248, 18.48764847,\n",
            "       22.77932037,  9.67488161,  7.42640652,  9.59337455, 16.67493899,\n",
            "       21.85403977,  9.88555309, 13.62866169,  6.69175492, 14.13742627,\n",
            "       12.60654417, 14.24937829, 16.53520994, 10.0772527 , 10.08146572]),\n",
            "      max_iter=None, normalize=False, random_state=None, solver='auto',\n",
            "      tol=0.001)\n",
            "Test Accuracy: 86.43%\n"
          ],
          "name": "stdout"
        }
      ]
    },
    {
      "cell_type": "markdown",
      "metadata": {
        "id": "X-TLeAbXst2C"
      },
      "source": [
        "**3.Support Vector Regressor**"
      ]
    },
    {
      "cell_type": "code",
      "metadata": {
        "colab": {
          "base_uri": "https://localhost:8080/"
        },
        "id": "KvPhYw_vhrYt",
        "outputId": "ba892fef-cd27-4dc3-fc7d-f6d098bde015"
      },
      "source": [
        "from sklearn.svm import SVR\n",
        "\n",
        "SVRmodel = SVR()\n",
        "SVRmodel.fit(X_train, y_train)"
      ],
      "execution_count": 49,
      "outputs": [
        {
          "output_type": "execute_result",
          "data": {
            "text/plain": [
              "SVR(C=1.0, cache_size=200, coef0=0.0, degree=3, epsilon=0.1, gamma='scale',\n",
              "    kernel='rbf', max_iter=-1, shrinking=True, tol=0.001, verbose=False)"
            ]
          },
          "metadata": {
            "tags": []
          },
          "execution_count": 49
        }
      ]
    },
    {
      "cell_type": "code",
      "metadata": {
        "colab": {
          "base_uri": "https://localhost:8080/"
        },
        "id": "lK94hTXTh4UZ",
        "outputId": "94b767a2-37ec-4cad-c034-f6fec6bdeb84"
      },
      "source": [
        "#Predicting and estimating the result\n",
        "\n",
        "y_pred_svr = SVRmodel.predict(X_test)\n",
        "print(\"Support Vector Regressor Report : \\n\\n\", SVR(y_test, y_pred_svr))\n",
        "print(\"Test Accuracy: {}%\".format(round(SVRmodel.score(X_test, y_test)*100, 2)))"
      ],
      "execution_count": 50,
      "outputs": [
        {
          "output_type": "stream",
          "text": [
            "Support Vector Regressor Report : \n",
            "\n",
            " SVR(C=1.0, cache_size=200, coef0=0.0,\n",
            "    degree=array([13.01323409, 12.86663979, 14.56255639,  9.42091663, 10.7723601 ,\n",
            "        7.38578832,  7.9960908 , 16.69944382, 21.022513  , 16.1356    ,\n",
            "       20.95184618, 19.88534952, 18.11525891, 20.02795542,  9.40320712,\n",
            "       19.9060742 , 12.05152616,  8.95939336, 15.25449759, 17.34454299,\n",
            "       11.30124859, 15.18289042, 11.30747629,  8.64788522,  7.36129366,\n",
            "        8.77393113, 14.639...\n",
            "    epsilon=0.1, gamma='scale',\n",
            "    kernel=57     13\n",
            "4      12\n",
            "171    14\n",
            "13      9\n",
            "94     11\n",
            "119     6\n",
            "117     9\n",
            "11     17\n",
            "39     21\n",
            "152    16\n",
            "175    27\n",
            "53     21\n",
            "20     18\n",
            "93     22\n",
            "12      9\n",
            "133    19\n",
            "115    12\n",
            "196     9\n",
            "118    15\n",
            "99     17\n",
            "50     11\n",
            "123    15\n",
            "122    11\n",
            "130     1\n",
            "106     7\n",
            "72      8\n",
            "62     15\n",
            "84     21\n",
            "19     14\n",
            "55     23\n",
            "31     11\n",
            "6      11\n",
            "54     20\n",
            "0      22\n",
            "113    15\n",
            "100    11\n",
            "185    22\n",
            "105    19\n",
            "2       9\n",
            "65      9\n",
            "114    14\n",
            "172     7\n",
            "17     24\n",
            "60      8\n",
            "139    20\n",
            "98     25\n",
            "73     11\n",
            "170     8\n",
            "90     11\n",
            "169    15\n",
            "36     25\n",
            "151    11\n",
            "160    14\n",
            "182     8\n",
            "110    13\n",
            "5       7\n",
            "162    14\n",
            "102    14\n",
            "82     11\n",
            "180    10\n",
            "Name: sales, dtype: int64,\n",
            "    max_iter=-1, shrinking=True, tol=0.001, verbose=False)\n",
            "Test Accuracy: 88.61%\n"
          ],
          "name": "stdout"
        }
      ]
    },
    {
      "cell_type": "markdown",
      "metadata": {
        "id": "59fSiT4Zs6o3"
      },
      "source": [
        "**4.Gradient Boosting Regressor**"
      ]
    },
    {
      "cell_type": "code",
      "metadata": {
        "colab": {
          "base_uri": "https://localhost:8080/"
        },
        "id": "JIpyuV6viJRX",
        "outputId": "56dc7d45-bae1-412a-b406-de07b8f05b08"
      },
      "source": [
        "from sklearn.ensemble import  GradientBoostingRegressor\n",
        "\n",
        "GBRmodel = GradientBoostingRegressor()\n",
        "GBRmodel.fit(X_train, y_train)"
      ],
      "execution_count": 51,
      "outputs": [
        {
          "output_type": "execute_result",
          "data": {
            "text/plain": [
              "GradientBoostingRegressor(alpha=0.9, ccp_alpha=0.0, criterion='friedman_mse',\n",
              "                          init=None, learning_rate=0.1, loss='ls', max_depth=3,\n",
              "                          max_features=None, max_leaf_nodes=None,\n",
              "                          min_impurity_decrease=0.0, min_impurity_split=None,\n",
              "                          min_samples_leaf=1, min_samples_split=2,\n",
              "                          min_weight_fraction_leaf=0.0, n_estimators=100,\n",
              "                          n_iter_no_change=None, presort='deprecated',\n",
              "                          random_state=None, subsample=1.0, tol=0.0001,\n",
              "                          validation_fraction=0.1, verbose=0, warm_start=False)"
            ]
          },
          "metadata": {
            "tags": []
          },
          "execution_count": 51
        }
      ]
    },
    {
      "cell_type": "code",
      "metadata": {
        "colab": {
          "base_uri": "https://localhost:8080/"
        },
        "id": "NCZ4mRaltD40",
        "outputId": "4ebb5d28-6b8d-46d5-b6e7-430a210b31bc"
      },
      "source": [
        "#Predicting and estimating the result\n",
        "\n",
        "y_pred_gbr = GBRmodel.predict(X_test)\n",
        "print(\"Gradient Boosting Regressor Report : \\n\\n\", GradientBoostingRegressor(y_test, y_pred_gbr))\n",
        "print(\"Test Accuracy: {}%\".format(round(GBRmodel.score(X_test, y_test)*100, 2)))"
      ],
      "execution_count": 52,
      "outputs": [
        {
          "output_type": "stream",
          "text": [
            "Gradient Boosting Regressor Report : \n",
            "\n",
            " GradientBoostingRegressor(alpha=0.9, ccp_alpha=0.0, criterion='friedman_mse',\n",
            "                          init=None,\n",
            "                          learning_rate=array([12.86802602, 11.69336278, 14.68231611,  9.87438748, 11.91013478,\n",
            "        6.58565538,  8.53321414, 16.63253264, 20.33423479, 16.33969004,\n",
            "       25.18182056, 20.68518425, 18.72410637, 21.58175218,  8.65712155,\n",
            "       19.6115458 , 12.93333152,  9.65051932, 15.89914519, 16.8784651 ,\n",
            "       10.98126431...\n",
            "180    10\n",
            "Name: sales, dtype: int64,\n",
            "                          max_depth=3, max_features=None, max_leaf_nodes=None,\n",
            "                          min_impurity_decrease=0.0, min_impurity_split=None,\n",
            "                          min_samples_leaf=1, min_samples_split=2,\n",
            "                          min_weight_fraction_leaf=0.0, n_estimators=100,\n",
            "                          n_iter_no_change=None, presort='deprecated',\n",
            "                          random_state=None, subsample=1.0, tol=0.0001,\n",
            "                          validation_fraction=0.1, verbose=0, warm_start=False)\n",
            "Test Accuracy: 96.62%\n"
          ],
          "name": "stdout"
        }
      ]
    },
    {
      "cell_type": "markdown",
      "metadata": {
        "id": "sAGND_Qvul1t"
      },
      "source": [
        "**5.Random Forest Regressor**"
      ]
    },
    {
      "cell_type": "code",
      "metadata": {
        "colab": {
          "base_uri": "https://localhost:8080/"
        },
        "id": "kLUk_kJvuq5a",
        "outputId": "f61391d2-1d01-4810-a508-bedab2207fc5"
      },
      "source": [
        "from sklearn.ensemble import  RandomForestRegressor\n",
        "\n",
        "RFRmodel = RandomForestRegressor()\n",
        "RFRmodel.fit(X_train, y_train)"
      ],
      "execution_count": 53,
      "outputs": [
        {
          "output_type": "execute_result",
          "data": {
            "text/plain": [
              "RandomForestRegressor(bootstrap=True, ccp_alpha=0.0, criterion='mse',\n",
              "                      max_depth=None, max_features='auto', max_leaf_nodes=None,\n",
              "                      max_samples=None, min_impurity_decrease=0.0,\n",
              "                      min_impurity_split=None, min_samples_leaf=1,\n",
              "                      min_samples_split=2, min_weight_fraction_leaf=0.0,\n",
              "                      n_estimators=100, n_jobs=None, oob_score=False,\n",
              "                      random_state=None, verbose=0, warm_start=False)"
            ]
          },
          "metadata": {
            "tags": []
          },
          "execution_count": 53
        }
      ]
    },
    {
      "cell_type": "code",
      "metadata": {
        "colab": {
          "base_uri": "https://localhost:8080/"
        },
        "id": "F_J6ZvyVu3cX",
        "outputId": "fed5755a-61a9-43fd-f282-35e732a6d26b"
      },
      "source": [
        "#Predicting and estimating the result\n",
        "\n",
        "y_pred_rfr = RFRmodel.predict(X_test)\n",
        "print(\"Random Forest Regressor Report : \\n\\n\", RandomForestRegressor(y_test, y_pred_rfr))\n",
        "print(\"Test Accuracy: {}%\".format(round(RFRmodel.score(X_test, y_test)*100, 2)))"
      ],
      "execution_count": 54,
      "outputs": [
        {
          "output_type": "stream",
          "text": [
            "Random Forest Regressor Report : \n",
            "\n",
            " RandomForestRegressor(bootstrap=True, ccp_alpha=0.0,\n",
            "                      criterion=array([12.83, 11.98, 14.63,  9.35, 11.85,  6.15,  8.08, 16.81, 20.23,\n",
            "       16.06, 24.43, 20.78, 18.5 , 20.25,  7.97, 19.67, 13.02,  9.09,\n",
            "       15.99, 16.7 , 11.15, 15.35, 10.57,  5.16,  6.66,  7.87, 14.71,\n",
            "       21.86, 14.97, 21.91, 12.16, 10.78, 19.77, 19.95, 15.85, 11.74,\n",
            "       21.77, 17.11,  7.68,  9.29, 13.01,  6.5 , 21.41,  8.04, 20.57,\n",
            "       24.31, 10.91,  8.98, 11.01, 12.7...\n",
            "                      n_estimators=57     13\n",
            "4      12\n",
            "171    14\n",
            "13      9\n",
            "94     11\n",
            "119     6\n",
            "117     9\n",
            "11     17\n",
            "39     21\n",
            "152    16\n",
            "175    27\n",
            "53     21\n",
            "20     18\n",
            "93     22\n",
            "12      9\n",
            "133    19\n",
            "115    12\n",
            "196     9\n",
            "118    15\n",
            "99     17\n",
            "50     11\n",
            "123    15\n",
            "122    11\n",
            "130     1\n",
            "106     7\n",
            "72      8\n",
            "62     15\n",
            "84     21\n",
            "19     14\n",
            "55     23\n",
            "31     11\n",
            "6      11\n",
            "54     20\n",
            "0      22\n",
            "113    15\n",
            "100    11\n",
            "185    22\n",
            "105    19\n",
            "2       9\n",
            "65      9\n",
            "114    14\n",
            "172     7\n",
            "17     24\n",
            "60      8\n",
            "139    20\n",
            "98     25\n",
            "73     11\n",
            "170     8\n",
            "90     11\n",
            "169    15\n",
            "36     25\n",
            "151    11\n",
            "160    14\n",
            "182     8\n",
            "110    13\n",
            "5       7\n",
            "162    14\n",
            "102    14\n",
            "82     11\n",
            "180    10\n",
            "Name: sales, dtype: int64,\n",
            "                      n_jobs=None, oob_score=False, random_state=None,\n",
            "                      verbose=0, warm_start=False)\n",
            "Test Accuracy: 96.31%\n"
          ],
          "name": "stdout"
        }
      ]
    },
    {
      "cell_type": "markdown",
      "metadata": {
        "id": "0e7VxidD0VYO"
      },
      "source": [
        "**6.Decision Tree Regressor**"
      ]
    },
    {
      "cell_type": "code",
      "metadata": {
        "colab": {
          "base_uri": "https://localhost:8080/"
        },
        "id": "k14ncuy3y68s",
        "outputId": "1e67ecda-d00a-4d7b-8b0f-9878ea287e86"
      },
      "source": [
        "from sklearn.tree import DecisionTreeRegressor\n",
        "\n",
        "DTRmodel = DecisionTreeRegressor()\n",
        "DTRmodel.fit(X_train, y_train)"
      ],
      "execution_count": 55,
      "outputs": [
        {
          "output_type": "execute_result",
          "data": {
            "text/plain": [
              "DecisionTreeRegressor(ccp_alpha=0.0, criterion='mse', max_depth=None,\n",
              "                      max_features=None, max_leaf_nodes=None,\n",
              "                      min_impurity_decrease=0.0, min_impurity_split=None,\n",
              "                      min_samples_leaf=1, min_samples_split=2,\n",
              "                      min_weight_fraction_leaf=0.0, presort='deprecated',\n",
              "                      random_state=None, splitter='best')"
            ]
          },
          "metadata": {
            "tags": []
          },
          "execution_count": 55
        }
      ]
    },
    {
      "cell_type": "code",
      "metadata": {
        "colab": {
          "base_uri": "https://localhost:8080/"
        },
        "id": "qoea9GKKzSYx",
        "outputId": "b31a4f76-7319-4c9b-e39b-1f2d37346b6e"
      },
      "source": [
        "#Predicting and estimating the result\n",
        "\n",
        "y_pred_dt = DTRmodel.predict(X_test)\n",
        "print(\"Decision Tree Regressor Report : \\n\\n\", DecisionTreeRegressor(y_test, y_pred_dt))\n",
        "print(\"Test Accuracy: {}%\".format(round(DTRmodel.score(X_test, y_test)*100, 2)))"
      ],
      "execution_count": 56,
      "outputs": [
        {
          "output_type": "stream",
          "text": [
            "Decision Tree Regressor Report : \n",
            "\n",
            " DecisionTreeRegressor(ccp_alpha=0.0,\n",
            "                      criterion=57     13\n",
            "4      12\n",
            "171    14\n",
            "13      9\n",
            "94     11\n",
            "119     6\n",
            "117     9\n",
            "11     17\n",
            "39     21\n",
            "152    16\n",
            "175    27\n",
            "53     21\n",
            "20     18\n",
            "93     22\n",
            "12      9\n",
            "133    19\n",
            "115    12\n",
            "196     9\n",
            "118    15\n",
            "99     17\n",
            "50     11\n",
            "123    15\n",
            "122    11\n",
            "130     1\n",
            "106     7\n",
            "72      8\n",
            "62     15\n",
            "84     21\n",
            "19     14\n",
            "55     23\n",
            "31     11\n",
            "6      11\n",
            "54     20\n",
            "0      22\n",
            "113    15\n",
            "100    11\n",
            "185    22\n",
            "105    19\n",
            "2       9\n",
            "65      9\n",
            "114    14\n",
            "172     7\n",
            "17     24\n",
            "60      8\n",
            "139    20\n",
            "98     25\n",
            "73     11\n",
            "170     8\n",
            "90     11\n",
            "169    15\n",
            "36     25\n",
            "151    11\n",
            "160    14\n",
            "182     8\n",
            "110    13\n",
            "5       7\n",
            "162    14\n",
            "102    14\n",
            "82     11\n",
            "180    10\n",
            "Name: sales, dtype: int64,\n",
            "                      max_depth=None, max_features=None...\n",
            "                      min_samples_leaf=1, min_samples_split=2,\n",
            "                      min_weight_fraction_leaf=0.0, presort='deprecated',\n",
            "                      random_state=None,\n",
            "                      splitter=array([13., 12., 14.,  9., 13.,  6.,  8., 17., 20., 17., 25., 22., 19.,\n",
            "       20.,  8., 20., 13.,  9., 16., 18., 11., 17., 10.,  6.,  5.,  8.,\n",
            "       14., 23., 15., 22., 12., 11., 20., 19., 14., 12., 23., 16.,  8.,\n",
            "        9., 13.,  6., 20.,  8., 24., 26., 11.,  9., 11., 12., 25., 11.,\n",
            "       14.,  8., 12.,  6., 15., 12., 11., 10.]))\n",
            "Test Accuracy: 92.68%\n"
          ],
          "name": "stdout"
        }
      ]
    },
    {
      "cell_type": "markdown",
      "metadata": {
        "id": "p05-ITtUxO2n"
      },
      "source": [
        "### **Computing Cross Validation**"
      ]
    },
    {
      "cell_type": "code",
      "metadata": {
        "id": "hhelMFLRxSlD"
      },
      "source": [
        "from sklearn.model_selection import cross_val_score"
      ],
      "execution_count": 57,
      "outputs": []
    },
    {
      "cell_type": "code",
      "metadata": {
        "colab": {
          "base_uri": "https://localhost:8080/"
        },
        "id": "htDZEuJmxWoI",
        "outputId": "e47ba503-e7b1-48d7-8042-285ec1d8ff1c"
      },
      "source": [
        "print(\"1.LinearRegressor :\",cross_val_score(LRmodel,X,y,cv=5).mean())"
      ],
      "execution_count": 58,
      "outputs": [
        {
          "output_type": "stream",
          "text": [
            "1.LinearRegressor : 0.8815483982672487\n"
          ],
          "name": "stdout"
        }
      ]
    },
    {
      "cell_type": "code",
      "metadata": {
        "colab": {
          "base_uri": "https://localhost:8080/"
        },
        "id": "lg5es6nRxlFl",
        "outputId": "44ba548b-91e1-4747-a638-e1fc9f87c3bf"
      },
      "source": [
        "print(\"2.Ridge Model :\",cross_val_score(Rmodel,X,y,cv=5).mean())"
      ],
      "execution_count": 59,
      "outputs": [
        {
          "output_type": "stream",
          "text": [
            "2.Ridge Model : 0.8792004866863177\n"
          ],
          "name": "stdout"
        }
      ]
    },
    {
      "cell_type": "code",
      "metadata": {
        "colab": {
          "base_uri": "https://localhost:8080/"
        },
        "id": "VHuOop4Dxx3J",
        "outputId": "157d1f2b-00c2-41f7-ba21-bd42a8d3f822"
      },
      "source": [
        "print(\"3.Support Vector Regressor :\",cross_val_score(SVRmodel,X,y,cv=5).mean())"
      ],
      "execution_count": 60,
      "outputs": [
        {
          "output_type": "stream",
          "text": [
            "3.Support Vector Regressor : 0.9123937548209543\n"
          ],
          "name": "stdout"
        }
      ]
    },
    {
      "cell_type": "code",
      "metadata": {
        "colab": {
          "base_uri": "https://localhost:8080/"
        },
        "id": "UmnBASkUyFKh",
        "outputId": "0ef473b9-99f1-4093-a1e9-5b8abeeff7b9"
      },
      "source": [
        "print(\"4.Gradient Boosting Regressor :\",cross_val_score(GBRmodel,X,y,cv=5).mean())"
      ],
      "execution_count": 61,
      "outputs": [
        {
          "output_type": "stream",
          "text": [
            "4.Gradient Boosting Regressor : 0.9721922648317142\n"
          ],
          "name": "stdout"
        }
      ]
    },
    {
      "cell_type": "code",
      "metadata": {
        "colab": {
          "base_uri": "https://localhost:8080/"
        },
        "id": "nOcbVIV8yST8",
        "outputId": "c310cd50-e703-4a60-8357-9fb84fb259a0"
      },
      "source": [
        "print(\"5.Random Forest Regressor :\",cross_val_score(RFRmodel,X,y,cv=5).mean())"
      ],
      "execution_count": 62,
      "outputs": [
        {
          "output_type": "stream",
          "text": [
            "5.Random Forest Regressor : 0.9706180719209663\n"
          ],
          "name": "stdout"
        }
      ]
    },
    {
      "cell_type": "code",
      "metadata": {
        "colab": {
          "base_uri": "https://localhost:8080/"
        },
        "id": "fqnMFF-Lzk1a",
        "outputId": "d20bca9f-90ea-4757-e03a-12e5909b69ad"
      },
      "source": [
        "print(\"6.Decision Tree Regressor :\",cross_val_score(DTRmodel,X,y,cv=5).mean())"
      ],
      "execution_count": 63,
      "outputs": [
        {
          "output_type": "stream",
          "text": [
            "6.Decision Tree Regressor : 0.9447678272355837\n"
          ],
          "name": "stdout"
        }
      ]
    },
    {
      "cell_type": "markdown",
      "metadata": {
        "id": "tzXFnDZ91IPo"
      },
      "source": [
        "**Observation** : I came to a conclusion that \"**Linear Regression**\" is the best model to be fitted with prediction for Advertising Sales Channel Prediction Model ."
      ]
    },
    {
      "cell_type": "markdown",
      "metadata": {
        "id": "WguBRkXz13bd"
      },
      "source": [
        "**Hyper parameter tuning**"
      ]
    },
    {
      "cell_type": "code",
      "metadata": {
        "id": "lOWpTBrs1Hys"
      },
      "source": [
        "from sklearn.model_selection import GridSearchCV"
      ],
      "execution_count": 64,
      "outputs": []
    },
    {
      "cell_type": "code",
      "metadata": {
        "id": "Bg4CP6S32Ao5"
      },
      "source": [
        "parameter={'n_jobs':np.arange(-1,1),\n",
        "           'fit_intercept':['bool'],\n",
        "           'normalize' : ['bool']}"
      ],
      "execution_count": 65,
      "outputs": []
    },
    {
      "cell_type": "code",
      "metadata": {
        "id": "IkMWNw875s_z"
      },
      "source": [
        "GCV=GridSearchCV(LinearRegression(),parameter,cv=5)"
      ],
      "execution_count": 66,
      "outputs": []
    },
    {
      "cell_type": "code",
      "metadata": {
        "colab": {
          "base_uri": "https://localhost:8080/"
        },
        "id": "8H8mBIZm6Af7",
        "outputId": "37f0b7f5-32c2-4bcd-cb45-fa03ea202a3a"
      },
      "source": [
        "GCV.fit(X_train,y_train)"
      ],
      "execution_count": 67,
      "outputs": [
        {
          "output_type": "execute_result",
          "data": {
            "text/plain": [
              "GridSearchCV(cv=5, error_score=nan,\n",
              "             estimator=LinearRegression(copy_X=True, fit_intercept=True,\n",
              "                                        n_jobs=None, normalize=False),\n",
              "             iid='deprecated', n_jobs=None,\n",
              "             param_grid={'fit_intercept': ['bool'], 'n_jobs': array([-1,  0]),\n",
              "                         'normalize': ['bool']},\n",
              "             pre_dispatch='2*n_jobs', refit=True, return_train_score=False,\n",
              "             scoring=None, verbose=0)"
            ]
          },
          "metadata": {
            "tags": []
          },
          "execution_count": 67
        }
      ]
    },
    {
      "cell_type": "code",
      "metadata": {
        "colab": {
          "base_uri": "https://localhost:8080/"
        },
        "id": "7khGxanc6FYC",
        "outputId": "d3a49c1a-b543-4179-d4a1-21c1eaf1ae91"
      },
      "source": [
        "GCV.best_params_"
      ],
      "execution_count": 68,
      "outputs": [
        {
          "output_type": "execute_result",
          "data": {
            "text/plain": [
              "{'fit_intercept': 'bool', 'n_jobs': -1, 'normalize': 'bool'}"
            ]
          },
          "metadata": {
            "tags": []
          },
          "execution_count": 68
        }
      ]
    },
    {
      "cell_type": "code",
      "metadata": {
        "colab": {
          "base_uri": "https://localhost:8080/"
        },
        "id": "Et5nO7rG6KkF",
        "outputId": "1c581bfe-0bec-4110-f1b2-4823dd743d3c"
      },
      "source": [
        "Final_mod = LinearRegression(fit_intercept = 'bool', n_jobs = -1, normalize = 'bool')\n",
        "Final_mod.fit(X_train,y_train)\n",
        "LRpred=Final_mod.predict(X_test)\n",
        "\n",
        "#Checking the R-squared on the test \n",
        "\n",
        "r_squared = r2_score(y_test, LRpred)\n",
        "print(r_squared*100)"
      ],
      "execution_count": 69,
      "outputs": [
        {
          "output_type": "stream",
          "text": [
            "87.56759209580864\n"
          ],
          "name": "stdout"
        }
      ]
    },
    {
      "cell_type": "code",
      "metadata": {
        "colab": {
          "base_uri": "https://localhost:8080/"
        },
        "id": "j0z-4WOu8qrc",
        "outputId": "6813e57c-31e0-4eea-b754-e51b72f98bec"
      },
      "source": [
        "#Returns the mean squared error; we'll take a square root\n",
        "\n",
        "np.sqrt(mean_squared_error(y_test, LRpred))*100"
      ],
      "execution_count": 70,
      "outputs": [
        {
          "output_type": "execute_result",
          "data": {
            "text/plain": [
              "197.6811088601678"
            ]
          },
          "metadata": {
            "tags": []
          },
          "execution_count": 70
        }
      ]
    },
    {
      "cell_type": "code",
      "metadata": {
        "colab": {
          "base_uri": "https://localhost:8080/",
          "height": 1000
        },
        "id": "kZ-lxkVAABXO",
        "outputId": "231ee593-3347-4763-9b05-0d8ed7d39b28"
      },
      "source": [
        "# Printing predicted values\n",
        "test=pd.DataFrame(data=y_test,)\n",
        "test['Predicted values']=y_pred_lr\n",
        "test\n",
        "# On the lest side values are those which are taken by machine for test..."
      ],
      "execution_count": 71,
      "outputs": [
        {
          "output_type": "execute_result",
          "data": {
            "text/html": [
              "<div>\n",
              "<style scoped>\n",
              "    .dataframe tbody tr th:only-of-type {\n",
              "        vertical-align: middle;\n",
              "    }\n",
              "\n",
              "    .dataframe tbody tr th {\n",
              "        vertical-align: top;\n",
              "    }\n",
              "\n",
              "    .dataframe thead th {\n",
              "        text-align: right;\n",
              "    }\n",
              "</style>\n",
              "<table border=\"1\" class=\"dataframe\">\n",
              "  <thead>\n",
              "    <tr style=\"text-align: right;\">\n",
              "      <th></th>\n",
              "      <th>sales</th>\n",
              "      <th>Predicted values</th>\n",
              "    </tr>\n",
              "  </thead>\n",
              "  <tbody>\n",
              "    <tr>\n",
              "      <th>57</th>\n",
              "      <td>13</td>\n",
              "      <td>12.210763</td>\n",
              "    </tr>\n",
              "    <tr>\n",
              "      <th>4</th>\n",
              "      <td>12</td>\n",
              "      <td>12.647946</td>\n",
              "    </tr>\n",
              "    <tr>\n",
              "      <th>171</th>\n",
              "      <td>14</td>\n",
              "      <td>13.862911</td>\n",
              "    </tr>\n",
              "    <tr>\n",
              "      <th>13</th>\n",
              "      <td>9</td>\n",
              "      <td>8.224198</td>\n",
              "    </tr>\n",
              "    <tr>\n",
              "      <th>94</th>\n",
              "      <td>11</td>\n",
              "      <td>9.915369</td>\n",
              "    </tr>\n",
              "    <tr>\n",
              "      <th>119</th>\n",
              "      <td>6</td>\n",
              "      <td>6.468710</td>\n",
              "    </tr>\n",
              "    <tr>\n",
              "      <th>117</th>\n",
              "      <td>9</td>\n",
              "      <td>6.014422</td>\n",
              "    </tr>\n",
              "    <tr>\n",
              "      <th>11</th>\n",
              "      <td>17</td>\n",
              "      <td>16.534252</td>\n",
              "    </tr>\n",
              "    <tr>\n",
              "      <th>39</th>\n",
              "      <td>21</td>\n",
              "      <td>19.872958</td>\n",
              "    </tr>\n",
              "    <tr>\n",
              "      <th>152</th>\n",
              "      <td>16</td>\n",
              "      <td>15.697603</td>\n",
              "    </tr>\n",
              "    <tr>\n",
              "      <th>175</th>\n",
              "      <td>27</td>\n",
              "      <td>24.213005</td>\n",
              "    </tr>\n",
              "    <tr>\n",
              "      <th>53</th>\n",
              "      <td>21</td>\n",
              "      <td>19.571730</td>\n",
              "    </tr>\n",
              "    <tr>\n",
              "      <th>20</th>\n",
              "      <td>18</td>\n",
              "      <td>17.561639</td>\n",
              "    </tr>\n",
              "    <tr>\n",
              "      <th>93</th>\n",
              "      <td>22</td>\n",
              "      <td>20.725132</td>\n",
              "    </tr>\n",
              "    <tr>\n",
              "      <th>12</th>\n",
              "      <td>9</td>\n",
              "      <td>10.447089</td>\n",
              "    </tr>\n",
              "    <tr>\n",
              "      <th>133</th>\n",
              "      <td>19</td>\n",
              "      <td>18.728776</td>\n",
              "    </tr>\n",
              "    <tr>\n",
              "      <th>115</th>\n",
              "      <td>12</td>\n",
              "      <td>12.663397</td>\n",
              "    </tr>\n",
              "    <tr>\n",
              "      <th>196</th>\n",
              "      <td>9</td>\n",
              "      <td>7.561683</td>\n",
              "    </tr>\n",
              "    <tr>\n",
              "      <th>118</th>\n",
              "      <td>15</td>\n",
              "      <td>15.301242</td>\n",
              "    </tr>\n",
              "    <tr>\n",
              "      <th>99</th>\n",
              "      <td>17</td>\n",
              "      <td>16.591478</td>\n",
              "    </tr>\n",
              "    <tr>\n",
              "      <th>50</th>\n",
              "      <td>11</td>\n",
              "      <td>11.948370</td>\n",
              "    </tr>\n",
              "    <tr>\n",
              "      <th>123</th>\n",
              "      <td>15</td>\n",
              "      <td>14.595553</td>\n",
              "    </tr>\n",
              "    <tr>\n",
              "      <th>122</th>\n",
              "      <td>11</td>\n",
              "      <td>12.824291</td>\n",
              "    </tr>\n",
              "    <tr>\n",
              "      <th>130</th>\n",
              "      <td>1</td>\n",
              "      <td>10.157373</td>\n",
              "    </tr>\n",
              "    <tr>\n",
              "      <th>106</th>\n",
              "      <td>7</td>\n",
              "      <td>5.768831</td>\n",
              "    </tr>\n",
              "    <tr>\n",
              "      <th>72</th>\n",
              "      <td>8</td>\n",
              "      <td>10.071867</td>\n",
              "    </tr>\n",
              "    <tr>\n",
              "      <th>62</th>\n",
              "      <td>15</td>\n",
              "      <td>16.066447</td>\n",
              "    </tr>\n",
              "    <tr>\n",
              "      <th>84</th>\n",
              "      <td>21</td>\n",
              "      <td>20.263624</td>\n",
              "    </tr>\n",
              "    <tr>\n",
              "      <th>19</th>\n",
              "      <td>14</td>\n",
              "      <td>13.616489</td>\n",
              "    </tr>\n",
              "    <tr>\n",
              "      <th>55</th>\n",
              "      <td>23</td>\n",
              "      <td>20.910180</td>\n",
              "    </tr>\n",
              "    <tr>\n",
              "      <th>31</th>\n",
              "      <td>11</td>\n",
              "      <td>10.896587</td>\n",
              "    </tr>\n",
              "    <tr>\n",
              "      <th>6</th>\n",
              "      <td>11</td>\n",
              "      <td>11.397466</td>\n",
              "    </tr>\n",
              "    <tr>\n",
              "      <th>54</th>\n",
              "      <td>20</td>\n",
              "      <td>19.633030</td>\n",
              "    </tr>\n",
              "    <tr>\n",
              "      <th>0</th>\n",
              "      <td>22</td>\n",
              "      <td>20.056011</td>\n",
              "    </tr>\n",
              "    <tr>\n",
              "      <th>113</th>\n",
              "      <td>15</td>\n",
              "      <td>15.689504</td>\n",
              "    </tr>\n",
              "    <tr>\n",
              "      <th>100</th>\n",
              "      <td>11</td>\n",
              "      <td>13.207027</td>\n",
              "    </tr>\n",
              "    <tr>\n",
              "      <th>185</th>\n",
              "      <td>22</td>\n",
              "      <td>20.256831</td>\n",
              "    </tr>\n",
              "    <tr>\n",
              "      <th>105</th>\n",
              "      <td>19</td>\n",
              "      <td>17.643146</td>\n",
              "    </tr>\n",
              "    <tr>\n",
              "      <th>2</th>\n",
              "      <td>9</td>\n",
              "      <td>12.249963</td>\n",
              "    </tr>\n",
              "    <tr>\n",
              "      <th>65</th>\n",
              "      <td>9</td>\n",
              "      <td>7.249421</td>\n",
              "    </tr>\n",
              "    <tr>\n",
              "      <th>114</th>\n",
              "      <td>14</td>\n",
              "      <td>15.043804</td>\n",
              "    </tr>\n",
              "    <tr>\n",
              "      <th>172</th>\n",
              "      <td>7</td>\n",
              "      <td>7.253230</td>\n",
              "    </tr>\n",
              "    <tr>\n",
              "      <th>17</th>\n",
              "      <td>24</td>\n",
              "      <td>22.639992</td>\n",
              "    </tr>\n",
              "    <tr>\n",
              "      <th>60</th>\n",
              "      <td>8</td>\n",
              "      <td>5.260463</td>\n",
              "    </tr>\n",
              "    <tr>\n",
              "      <th>139</th>\n",
              "      <td>20</td>\n",
              "      <td>19.050046</td>\n",
              "    </tr>\n",
              "    <tr>\n",
              "      <th>98</th>\n",
              "      <td>25</td>\n",
              "      <td>23.519010</td>\n",
              "    </tr>\n",
              "    <tr>\n",
              "      <th>73</th>\n",
              "      <td>11</td>\n",
              "      <td>9.344019</td>\n",
              "    </tr>\n",
              "    <tr>\n",
              "      <th>170</th>\n",
              "      <td>8</td>\n",
              "      <td>6.952881</td>\n",
              "    </tr>\n",
              "    <tr>\n",
              "      <th>90</th>\n",
              "      <td>11</td>\n",
              "      <td>9.332888</td>\n",
              "    </tr>\n",
              "    <tr>\n",
              "      <th>169</th>\n",
              "      <td>15</td>\n",
              "      <td>17.022955</td>\n",
              "    </tr>\n",
              "    <tr>\n",
              "      <th>36</th>\n",
              "      <td>25</td>\n",
              "      <td>22.667077</td>\n",
              "    </tr>\n",
              "    <tr>\n",
              "      <th>151</th>\n",
              "      <td>11</td>\n",
              "      <td>9.533805</td>\n",
              "    </tr>\n",
              "    <tr>\n",
              "      <th>160</th>\n",
              "      <td>14</td>\n",
              "      <td>13.637210</td>\n",
              "    </tr>\n",
              "    <tr>\n",
              "      <th>182</th>\n",
              "      <td>8</td>\n",
              "      <td>6.117636</td>\n",
              "    </tr>\n",
              "    <tr>\n",
              "      <th>110</th>\n",
              "      <td>13</td>\n",
              "      <td>14.122935</td>\n",
              "    </tr>\n",
              "    <tr>\n",
              "      <th>5</th>\n",
              "      <td>7</td>\n",
              "      <td>12.464520</td>\n",
              "    </tr>\n",
              "    <tr>\n",
              "      <th>162</th>\n",
              "      <td>14</td>\n",
              "      <td>14.323813</td>\n",
              "    </tr>\n",
              "    <tr>\n",
              "      <th>102</th>\n",
              "      <td>14</td>\n",
              "      <td>16.806178</td>\n",
              "    </tr>\n",
              "    <tr>\n",
              "      <th>82</th>\n",
              "      <td>11</td>\n",
              "      <td>9.788048</td>\n",
              "    </tr>\n",
              "    <tr>\n",
              "      <th>180</th>\n",
              "      <td>10</td>\n",
              "      <td>9.864985</td>\n",
              "    </tr>\n",
              "  </tbody>\n",
              "</table>\n",
              "</div>"
            ],
            "text/plain": [
              "     sales  Predicted values\n",
              "57      13         12.210763\n",
              "4       12         12.647946\n",
              "171     14         13.862911\n",
              "13       9          8.224198\n",
              "94      11          9.915369\n",
              "119      6          6.468710\n",
              "117      9          6.014422\n",
              "11      17         16.534252\n",
              "39      21         19.872958\n",
              "152     16         15.697603\n",
              "175     27         24.213005\n",
              "53      21         19.571730\n",
              "20      18         17.561639\n",
              "93      22         20.725132\n",
              "12       9         10.447089\n",
              "133     19         18.728776\n",
              "115     12         12.663397\n",
              "196      9          7.561683\n",
              "118     15         15.301242\n",
              "99      17         16.591478\n",
              "50      11         11.948370\n",
              "123     15         14.595553\n",
              "122     11         12.824291\n",
              "130      1         10.157373\n",
              "106      7          5.768831\n",
              "72       8         10.071867\n",
              "62      15         16.066447\n",
              "84      21         20.263624\n",
              "19      14         13.616489\n",
              "55      23         20.910180\n",
              "31      11         10.896587\n",
              "6       11         11.397466\n",
              "54      20         19.633030\n",
              "0       22         20.056011\n",
              "113     15         15.689504\n",
              "100     11         13.207027\n",
              "185     22         20.256831\n",
              "105     19         17.643146\n",
              "2        9         12.249963\n",
              "65       9          7.249421\n",
              "114     14         15.043804\n",
              "172      7          7.253230\n",
              "17      24         22.639992\n",
              "60       8          5.260463\n",
              "139     20         19.050046\n",
              "98      25         23.519010\n",
              "73      11          9.344019\n",
              "170      8          6.952881\n",
              "90      11          9.332888\n",
              "169     15         17.022955\n",
              "36      25         22.667077\n",
              "151     11          9.533805\n",
              "160     14         13.637210\n",
              "182      8          6.117636\n",
              "110     13         14.122935\n",
              "5        7         12.464520\n",
              "162     14         14.323813\n",
              "102     14         16.806178\n",
              "82      11          9.788048\n",
              "180     10          9.864985"
            ]
          },
          "metadata": {
            "tags": []
          },
          "execution_count": 71
        }
      ]
    },
    {
      "cell_type": "markdown",
      "metadata": {
        "id": "deVK4vgV_xsK"
      },
      "source": [
        "# **Saving Final Model**"
      ]
    },
    {
      "cell_type": "code",
      "metadata": {
        "id": "he6QAcyD_3Ww"
      },
      "source": [
        "# Saving the Predicted values in csv file\n",
        "\n",
        "test.to_csv('Advertising_Sales_Prediction.csv')"
      ],
      "execution_count": 72,
      "outputs": []
    },
    {
      "cell_type": "code",
      "metadata": {
        "colab": {
          "base_uri": "https://localhost:8080/"
        },
        "id": "MJfYi9uAB2Xq",
        "outputId": "9da195af-6939-4f4c-fc43-dea64fbfe269"
      },
      "source": [
        "# Dumping Data in pickle file.\n",
        "\n",
        "import joblib\n",
        "joblib.dump(LRmodel,'Advertising_Sales_Channel_Prediction_Model.pkl')"
      ],
      "execution_count": 73,
      "outputs": [
        {
          "output_type": "execute_result",
          "data": {
            "text/plain": [
              "['Advertising_Sales_Channel_Prediction_Model.pkl']"
            ]
          },
          "metadata": {
            "tags": []
          },
          "execution_count": 73
        }
      ]
    }
  ]
}